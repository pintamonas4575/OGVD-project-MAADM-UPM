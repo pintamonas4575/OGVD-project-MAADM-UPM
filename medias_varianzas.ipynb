{
 "cells": [
  {
   "cell_type": "code",
   "execution_count": 1,
   "metadata": {},
   "outputs": [
    {
     "name": "stderr",
     "output_type": "stream",
     "text": [
      "25/02/18 18:50:37 WARN Utils: Your hostname, jalvarez resolves to a loopback address: 127.0.1.1; using 10.166.129.52 instead (on interface wlo1)\n",
      "25/02/18 18:50:37 WARN Utils: Set SPARK_LOCAL_IP if you need to bind to another address\n",
      "Setting default log level to \"WARN\".\n",
      "To adjust logging level use sc.setLogLevel(newLevel). For SparkR, use setLogLevel(newLevel).\n",
      "25/02/18 18:50:37 WARN NativeCodeLoader: Unable to load native-hadoop library for your platform... using builtin-java classes where applicable\n"
     ]
    }
   ],
   "source": [
    "import pandas as pd\n",
    "import numpy as np\n",
    "\n",
    "import findspark\n",
    "findspark.init()\n",
    "from pyspark import SparkContext\n",
    "\n",
    "sc = SparkContext(\"local[*]\", \"Name of the Program\")\n",
    "\n"
   ]
  },
  {
   "cell_type": "code",
   "execution_count": 56,
   "metadata": {},
   "outputs": [
    {
     "data": {
      "text/plain": [
       "array([[1.80000000e+01, 1.52600000e+03, 1.20000000e+01, ...,\n",
       "        1.01000000e+02, 2.02278686e+02, 0.00000000e+00],\n",
       "       [2.10000000e+01, 9.60000000e+02, 2.80000000e+01, ...,\n",
       "        0.00000000e+00, 0.00000000e+00, 0.00000000e+00],\n",
       "       [4.50000000e+01, 9.60000000e+02, 8.10000000e+01, ...,\n",
       "        0.00000000e+00, 0.00000000e+00, 0.00000000e+00],\n",
       "       ...,\n",
       "       [1.08600000e+03, 1.13410000e+04, 2.95200000e+03, ...,\n",
       "        1.11000000e+02, 3.39986412e+03, 0.00000000e+00],\n",
       "       [1.10800000e+03, 1.13410000e+04, 3.00700000e+03, ...,\n",
       "        1.11000000e+02, 3.39986412e+03, 0.00000000e+00],\n",
       "       [1.12600000e+03, 1.24620000e+04, 3.06600000e+03, ...,\n",
       "        1.11000000e+02, 4.76878318e+03, 0.00000000e+00]],\n",
       "      shape=(5000, 211))"
      ]
     },
     "execution_count": 56,
     "metadata": {},
     "output_type": "execute_result"
    }
   ],
   "source": [
    "df = pd.read_csv('data_ok.csv',sep=' ',header=None)\n",
    "df=np.array(df)\n",
    "df"
   ]
  },
  {
   "cell_type": "markdown",
   "metadata": {},
   "source": [
    "## Ej1"
   ]
  },
  {
   "cell_type": "code",
   "execution_count": 52,
   "metadata": {},
   "outputs": [
    {
     "name": "stdout",
     "output_type": "stream",
     "text": [
      "Medias: 1058.840969225582. Varianzas: 3760978.8000936448\n",
      "Real. Media: 1058.8409692255825. Varianza: 3760978.800093644\n"
     ]
    }
   ],
   "source": [
    "array=df[:,38]\n",
    "rdd = sc.parallelize(array)\n",
    "suma = rdd.reduce(lambda x,y: x+y)\n",
    "media = suma / rdd.count()\n",
    "\n",
    "rdd_2 = rdd.map(lambda x: (x, media))\n",
    "\n",
    "restas = rdd_2.map(lambda x: (x[0]-x[1])**2)\n",
    "sumas = restas.reduce(lambda x,y: x+y)\n",
    "varianza = sumas / rdd.count()\n",
    "\n",
    "print(f'Medias: {media}. Varianzas: {varianza}')\n",
    "print(f'Real. Media: {rdd.mean()}. Varianza: {rdd.stdev()**2}')"
   ]
  },
  {
   "cell_type": "markdown",
   "metadata": {},
   "source": [
    "## Ej 2"
   ]
  },
  {
   "cell_type": "code",
   "execution_count": 54,
   "metadata": {},
   "outputs": [
    {
     "name": "stdout",
     "output_type": "stream",
     "text": [
      "Medias: [ 427.8384 8544.5638 1006.7712]. Varianzas: [4.01818166e+05 3.16837334e+09 2.95960564e+06]\n",
      "Real. Media: [ 427.8384 8544.5638 1006.7712]. Varianza: [4.01818166e+05 3.16837334e+09 2.95960564e+06]\n"
     ]
    }
   ],
   "source": [
    "rdd = sc.parallelize(df)\n",
    "suma = rdd.reduce(lambda x,y: x+y)\n",
    "media = suma / rdd.count()\n",
    "\n",
    "rdd_2 = rdd.map(lambda x: (x, media))\n",
    "\n",
    "restas = rdd_2.map(lambda x: (x[0]-x[1])**2)\n",
    "sumas = restas.reduce(lambda x,y: x+y)\n",
    "varianza = sumas / rdd.count()\n",
    "\n",
    "\n",
    "#Se imprimen los 3 primeros para comprobar\n",
    "print(f'Medias: {media[:3]}. Varianzas: {varianza[:3]}')\n",
    "print(f'Real. Media: {rdd.mean()[:3]}. Varianza: {(rdd.stdev()**2)[:3]}')\n"
   ]
  }
 ],
 "metadata": {
  "kernelspec": {
   "display_name": ".venv",
   "language": "python",
   "name": "python3"
  },
  "language_info": {
   "codemirror_mode": {
    "name": "ipython",
    "version": 3
   },
   "file_extension": ".py",
   "mimetype": "text/x-python",
   "name": "python",
   "nbconvert_exporter": "python",
   "pygments_lexer": "ipython3",
   "version": "3.10.12"
  }
 },
 "nbformat": 4,
 "nbformat_minor": 2
}
