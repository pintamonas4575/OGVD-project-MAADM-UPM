{
 "cells": [
  {
   "cell_type": "code",
   "execution_count": 3,
   "metadata": {},
   "outputs": [
    {
     "name": "stderr",
     "output_type": "stream",
     "text": [
      "25/02/24 16:32:17 WARN Utils: Your hostname, jalvarez resolves to a loopback address: 127.0.1.1; using 192.168.1.51 instead (on interface wlo1)\n",
      "25/02/24 16:32:17 WARN Utils: Set SPARK_LOCAL_IP if you need to bind to another address\n",
      "Setting default log level to \"WARN\".\n",
      "To adjust logging level use sc.setLogLevel(newLevel). For SparkR, use setLogLevel(newLevel).\n",
      "25/02/24 16:32:19 WARN NativeCodeLoader: Unable to load native-hadoop library for your platform... using builtin-java classes where applicable\n",
      "25/02/24 16:32:21 WARN Utils: Service 'SparkUI' could not bind on port 4040. Attempting port 4041.\n"
     ]
    }
   ],
   "source": [
    "import findspark\n",
    "findspark.init()\n",
    "from pyspark import SparkContext\n",
    "import numpy as np\n",
    "\n",
    "sc = SparkContext(\"local[*]\", \"Name of the Program\")"
   ]
  },
  {
   "cell_type": "code",
   "execution_count": 31,
   "metadata": {},
   "outputs": [
    {
     "data": {
      "text/html": [
       "<div>\n",
       "<style scoped>\n",
       "    .dataframe tbody tr th:only-of-type {\n",
       "        vertical-align: middle;\n",
       "    }\n",
       "\n",
       "    .dataframe tbody tr th {\n",
       "        vertical-align: top;\n",
       "    }\n",
       "\n",
       "    .dataframe thead th {\n",
       "        text-align: right;\n",
       "    }\n",
       "</style>\n",
       "<table border=\"1\" class=\"dataframe\">\n",
       "  <thead>\n",
       "    <tr style=\"text-align: right;\">\n",
       "      <th></th>\n",
       "      <th>0</th>\n",
       "      <th>1</th>\n",
       "      <th>2</th>\n",
       "      <th>3</th>\n",
       "      <th>4</th>\n",
       "      <th>5</th>\n",
       "      <th>6</th>\n",
       "      <th>7</th>\n",
       "      <th>8</th>\n",
       "      <th>9</th>\n",
       "      <th>10</th>\n",
       "      <th>11</th>\n",
       "    </tr>\n",
       "  </thead>\n",
       "  <tbody>\n",
       "    <tr>\n",
       "      <th>0</th>\n",
       "      <td>3545.301892</td>\n",
       "      <td>3198.013947</td>\n",
       "      <td>80.000155</td>\n",
       "      <td>1.000002</td>\n",
       "      <td>4.449601e+08</td>\n",
       "      <td>4.768073e+02</td>\n",
       "      <td>13.0</td>\n",
       "      <td>-7.710425e-09</td>\n",
       "      <td>87.000001</td>\n",
       "      <td>1.909943e+07</td>\n",
       "      <td>2.468368e+09</td>\n",
       "      <td>0</td>\n",
       "    </tr>\n",
       "    <tr>\n",
       "      <th>1</th>\n",
       "      <td>-0.000001</td>\n",
       "      <td>7.999989</td>\n",
       "      <td>65499.998878</td>\n",
       "      <td>1.000000</td>\n",
       "      <td>6.199989e+01</td>\n",
       "      <td>6.999981e+01</td>\n",
       "      <td>12.0</td>\n",
       "      <td>-2.356882e-08</td>\n",
       "      <td>8.000005</td>\n",
       "      <td>2.468370e+09</td>\n",
       "      <td>2.468368e+09</td>\n",
       "      <td>1</td>\n",
       "    </tr>\n",
       "    <tr>\n",
       "      <th>2</th>\n",
       "      <td>3599.999088</td>\n",
       "      <td>54943.060117</td>\n",
       "      <td>53.000260</td>\n",
       "      <td>1.000002</td>\n",
       "      <td>2.629992e+02</td>\n",
       "      <td>8.299989e+01</td>\n",
       "      <td>13.0</td>\n",
       "      <td>5.000000e+00</td>\n",
       "      <td>212.999999</td>\n",
       "      <td>1.590217e+09</td>\n",
       "      <td>9.830836e+01</td>\n",
       "      <td>0</td>\n",
       "    </tr>\n",
       "    <tr>\n",
       "      <th>3</th>\n",
       "      <td>13.270015</td>\n",
       "      <td>1359.530053</td>\n",
       "      <td>54976.967280</td>\n",
       "      <td>1.000002</td>\n",
       "      <td>6.415608e+08</td>\n",
       "      <td>8.299989e+01</td>\n",
       "      <td>12.0</td>\n",
       "      <td>3.000000e+00</td>\n",
       "      <td>7.999999</td>\n",
       "      <td>2.468370e+09</td>\n",
       "      <td>4.026532e+09</td>\n",
       "      <td>0</td>\n",
       "    </tr>\n",
       "    <tr>\n",
       "      <th>4</th>\n",
       "      <td>1242.891867</td>\n",
       "      <td>7.999201</td>\n",
       "      <td>30867.053528</td>\n",
       "      <td>1.000002</td>\n",
       "      <td>6.462429e+08</td>\n",
       "      <td>8.205111e+02</td>\n",
       "      <td>13.0</td>\n",
       "      <td>5.000000e+00</td>\n",
       "      <td>131.433345</td>\n",
       "      <td>1.399758e+09</td>\n",
       "      <td>4.026532e+09</td>\n",
       "      <td>0</td>\n",
       "    </tr>\n",
       "    <tr>\n",
       "      <th>...</th>\n",
       "      <td>...</td>\n",
       "      <td>...</td>\n",
       "      <td>...</td>\n",
       "      <td>...</td>\n",
       "      <td>...</td>\n",
       "      <td>...</td>\n",
       "      <td>...</td>\n",
       "      <td>...</td>\n",
       "      <td>...</td>\n",
       "      <td>...</td>\n",
       "      <td>...</td>\n",
       "      <td>...</td>\n",
       "    </tr>\n",
       "    <tr>\n",
       "      <th>9995</th>\n",
       "      <td>-0.000001</td>\n",
       "      <td>1592.529246</td>\n",
       "      <td>24.999998</td>\n",
       "      <td>1.000000</td>\n",
       "      <td>3.828049e+04</td>\n",
       "      <td>6.999981e+01</td>\n",
       "      <td>13.0</td>\n",
       "      <td>-2.356882e-08</td>\n",
       "      <td>-1.000002</td>\n",
       "      <td>2.468370e+09</td>\n",
       "      <td>3.651344e+09</td>\n",
       "      <td>1</td>\n",
       "    </tr>\n",
       "    <tr>\n",
       "      <th>9996</th>\n",
       "      <td>932.759112</td>\n",
       "      <td>55642.021416</td>\n",
       "      <td>21309.076471</td>\n",
       "      <td>1.000000</td>\n",
       "      <td>3.449995e+02</td>\n",
       "      <td>2.118172e+07</td>\n",
       "      <td>13.0</td>\n",
       "      <td>-2.356882e-08</td>\n",
       "      <td>199.000002</td>\n",
       "      <td>2.468370e+09</td>\n",
       "      <td>3.495627e+07</td>\n",
       "      <td>1</td>\n",
       "    </tr>\n",
       "    <tr>\n",
       "      <th>9997</th>\n",
       "      <td>3599.999088</td>\n",
       "      <td>50465.136134</td>\n",
       "      <td>0.000351</td>\n",
       "      <td>2.000000</td>\n",
       "      <td>2.629992e+02</td>\n",
       "      <td>8.299989e+01</td>\n",
       "      <td>13.0</td>\n",
       "      <td>5.000000e+00</td>\n",
       "      <td>212.999999</td>\n",
       "      <td>1.043512e+09</td>\n",
       "      <td>9.830836e+01</td>\n",
       "      <td>0</td>\n",
       "    </tr>\n",
       "    <tr>\n",
       "      <th>9998</th>\n",
       "      <td>2041.282575</td>\n",
       "      <td>58156.737042</td>\n",
       "      <td>-0.000044</td>\n",
       "      <td>2.000000</td>\n",
       "      <td>6.199989e+01</td>\n",
       "      <td>6.999981e+01</td>\n",
       "      <td>13.0</td>\n",
       "      <td>4.000000e+00</td>\n",
       "      <td>187.000001</td>\n",
       "      <td>2.468370e+09</td>\n",
       "      <td>2.151554e+09</td>\n",
       "      <td>1</td>\n",
       "    </tr>\n",
       "    <tr>\n",
       "      <th>9999</th>\n",
       "      <td>909.595553</td>\n",
       "      <td>52551.674003</td>\n",
       "      <td>24.999998</td>\n",
       "      <td>1.000000</td>\n",
       "      <td>6.199989e+01</td>\n",
       "      <td>6.999981e+01</td>\n",
       "      <td>13.0</td>\n",
       "      <td>-2.356882e-08</td>\n",
       "      <td>187.000001</td>\n",
       "      <td>2.468370e+09</td>\n",
       "      <td>2.468373e+09</td>\n",
       "      <td>1</td>\n",
       "    </tr>\n",
       "  </tbody>\n",
       "</table>\n",
       "<p>10000 rows × 12 columns</p>\n",
       "</div>"
      ],
      "text/plain": [
       "               0             1             2         3             4   \\\n",
       "0     3545.301892   3198.013947     80.000155  1.000002  4.449601e+08   \n",
       "1       -0.000001      7.999989  65499.998878  1.000000  6.199989e+01   \n",
       "2     3599.999088  54943.060117     53.000260  1.000002  2.629992e+02   \n",
       "3       13.270015   1359.530053  54976.967280  1.000002  6.415608e+08   \n",
       "4     1242.891867      7.999201  30867.053528  1.000002  6.462429e+08   \n",
       "...           ...           ...           ...       ...           ...   \n",
       "9995    -0.000001   1592.529246     24.999998  1.000000  3.828049e+04   \n",
       "9996   932.759112  55642.021416  21309.076471  1.000000  3.449995e+02   \n",
       "9997  3599.999088  50465.136134      0.000351  2.000000  2.629992e+02   \n",
       "9998  2041.282575  58156.737042     -0.000044  2.000000  6.199989e+01   \n",
       "9999   909.595553  52551.674003     24.999998  1.000000  6.199989e+01   \n",
       "\n",
       "                5     6             7           8             9   \\\n",
       "0     4.768073e+02  13.0 -7.710425e-09   87.000001  1.909943e+07   \n",
       "1     6.999981e+01  12.0 -2.356882e-08    8.000005  2.468370e+09   \n",
       "2     8.299989e+01  13.0  5.000000e+00  212.999999  1.590217e+09   \n",
       "3     8.299989e+01  12.0  3.000000e+00    7.999999  2.468370e+09   \n",
       "4     8.205111e+02  13.0  5.000000e+00  131.433345  1.399758e+09   \n",
       "...            ...   ...           ...         ...           ...   \n",
       "9995  6.999981e+01  13.0 -2.356882e-08   -1.000002  2.468370e+09   \n",
       "9996  2.118172e+07  13.0 -2.356882e-08  199.000002  2.468370e+09   \n",
       "9997  8.299989e+01  13.0  5.000000e+00  212.999999  1.043512e+09   \n",
       "9998  6.999981e+01  13.0  4.000000e+00  187.000001  2.468370e+09   \n",
       "9999  6.999981e+01  13.0 -2.356882e-08  187.000001  2.468370e+09   \n",
       "\n",
       "                10  11  \n",
       "0     2.468368e+09   0  \n",
       "1     2.468368e+09   1  \n",
       "2     9.830836e+01   0  \n",
       "3     4.026532e+09   0  \n",
       "4     4.026532e+09   0  \n",
       "...            ...  ..  \n",
       "9995  3.651344e+09   1  \n",
       "9996  3.495627e+07   1  \n",
       "9997  9.830836e+01   0  \n",
       "9998  2.151554e+09   1  \n",
       "9999  2.468373e+09   1  \n",
       "\n",
       "[10000 rows x 12 columns]"
      ]
     },
     "execution_count": 31,
     "metadata": {},
     "output_type": "execute_result"
    }
   ],
   "source": [
    "data"
   ]
  },
  {
   "cell_type": "code",
   "execution_count": 34,
   "metadata": {},
   "outputs": [
    {
     "name": "stdout",
     "output_type": "stream",
     "text": [
      "(10000, 11)\n"
     ]
    }
   ],
   "source": [
    "import pandas as pd\n",
    "from sklearn.preprocessing import StandardScaler\n",
    "data=pd.read_csv(\"data/botnet_reduced_10k_l.csv\", header=None,sep=',')\n",
    "r=np.array(data)[:,:-1]\n",
    "print(r.shape)\n",
    "scaler = StandardScaler()\n",
    "r=scaler.fit_transform(r)"
   ]
  },
  {
   "cell_type": "code",
   "execution_count": 35,
   "metadata": {},
   "outputs": [
    {
     "data": {
      "text/plain": [
       "array([[ 1.41281668, -0.75956071, -0.41204268, ..., -0.40163083,\n",
       "        -2.91039199,  0.1567098 ],\n",
       "       [-0.79867306, -0.89146231,  3.64034447, ..., -1.27444226,\n",
       "         0.4762026 ,  0.1567098 ],\n",
       "       [ 1.44693571,  1.38000803, -0.41371517, ...,  0.9904482 ,\n",
       "        -0.73801555, -1.74828175],\n",
       "       ...,\n",
       "       [ 1.44693571,  1.19485357, -0.4169982 , ...,  0.9904482 ,\n",
       "        -1.49394086, -1.74828175],\n",
       "       [ 0.47463895,  1.51288805, -0.41699823, ...,  0.70319381,\n",
       "         0.47620254, -0.08779544],\n",
       "       [-0.2312852 ,  1.28112832, -0.41544962, ...,  0.70319381,\n",
       "         0.4762026 ,  0.15671301]], shape=(10000, 11))"
      ]
     },
     "execution_count": 35,
     "metadata": {},
     "output_type": "execute_result"
    }
   ],
   "source": [
    "r"
   ]
  },
  {
   "cell_type": "code",
   "execution_count": 203,
   "metadata": {},
   "outputs": [],
   "source": [
    "def readFile(filename):\n",
    "    rdd = sc.textFile(filename)\n",
    "    rdd_numpy = rdd.map(lambda x : np.array(x.split(\",\"), dtype = float))\n",
    "    rdd_return = rdd_numpy.map(lambda x : (x[:-1], int(x[-1])))\n",
    "    return rdd_return\n",
    "\n",
    "def normalize(RDD_Xy):\n",
    "    \n",
    "    suma = RDD_Xy.reduce(lambda x,y: (np.array(x[0])+np.array(y[0]),x[1]))\n",
    "    total_filas = float(RDD_Xy.count())\n",
    "    media = suma[0] / total_filas\n",
    "\n",
    "    rdd_2 = RDD_Xy.map(lambda x: (x[0],x[1], media)) \n",
    "\n",
    "    restas = rdd_2.map(lambda x: (x[0]-x[2])**2)\n",
    "    sumas = restas.reduce(lambda x,y: x+y)\n",
    "    desviacion = (sumas / total_filas)**0.5\n",
    "\n",
    "    def f(x):\n",
    "        a = (x[0] - media) / desviacion\n",
    "        a= np.nan_to_num(a, copy=False,nan=0.0)\n",
    "        return (a,x[1])\n",
    "\n",
    "    normalizado = RDD_Xy.map(f)\n",
    "    return normalizado\n",
    "\n",
    "def predict(w,b,X,threshold=0.5):\n",
    "    rdd=X.map(lambda x:np.dot(w,np.array(x[0])+b))\n",
    "    logistic= rdd.map(lambda x: 1/(1+np.exp(-x)))\n",
    "    results=logistic.map(lambda x: 1 if x>threshold else 0)\n",
    "    return results\n",
    "\n",
    "def get_predictions_targets_inputs(w,b,X,threshold=0.5):\n",
    "    \"\"\"\n",
    "    Get the predictions, targets and inputs\n",
    "    :param w: weights\n",
    "    :param b: bias\n",
    "    :param X: RDD with the data\n",
    "    :param threshold: threshold to classify the data\n",
    "    :return: RDD with the tuple predictions, targets and inputs\n",
    "    \"\"\"\n",
    "    rdd=X.map(lambda x:(np.dot(w,np.array(x[0])+b),x[1],x[0]))\n",
    "    logistic= rdd.map(lambda x: (1/(1+np.exp(-x[0])),x[1],x[2]))\n",
    "    results=logistic.map(lambda x: ((0.999,x[1],x[2]) if x[0]>threshold else (0.001,x[1],x[2]))) #para evitar log(0)=-inf y log(1)=0\n",
    "    return results\n",
    "\n",
    "# TODO preguntar si la b se incluye en la perdida, porque en la formula del enunciado no aparece\n",
    "\n",
    "def calculate_loss_function(predictions_and_targets,lambda_reg,w):   \n",
    "    \"\"\"\n",
    "    Calculate the loss function for logistic regression\n",
    "    :param predictions_and_targets: RDD with the predictions and the targets\n",
    "    :param lambda_reg: regularization parameter\n",
    "    :param w: weights\n",
    "    :return: loss function\n",
    "    \"\"\"\n",
    "\n",
    "\n",
    "    def f(x):\n",
    "        return (-x[1]*np.log(x[0])-(1-x[1])*np.log(1-x[0]))\n",
    "\n",
    "    loss=predictions_and_targets.map(f)\n",
    "    suma=loss.reduce(lambda x,y: x+y)/predictions_and_targets.count()\n",
    "    squared_w=np.dot(w,w)\n",
    "    squared_w=squared_w*lambda_reg/(2*len(w))\n",
    "    return suma+squared_w\n",
    "\n",
    "\n",
    "\n",
    "# TODO pregunta si el for de los gradientes se puede hacer así\n",
    "\n",
    "def train(RDD_Xy, iterations, learning_rate, lambda_reg):\n",
    "    w = np.random.rand(11)\n",
    "    b=np.random.rand(1)\n",
    "    for iteration in range(iterations):\n",
    "        predictions_targets_inputs=get_predictions_targets_inputs(w,b,RDD_Xy)\n",
    "        for i in range(len(w)):\n",
    "            gradient=predictions_targets_inputs.map(lambda x: (x[0]-x[1])*x[2][i]).reduce(lambda x,y: x+y)/predictions_targets_inputs.count()\n",
    "            gradient=gradient+(lambda_reg*w[i])/len(w)\n",
    "            w[i]=w[i]-learning_rate*gradient\n",
    "        b_gradient=predictions_targets_inputs.map(lambda x: x[0]-x[1]).reduce(lambda x,y: x+y)/predictions_targets_inputs.count()\n",
    "        b=b-learning_rate*b_gradient\n",
    "        loss=calculate_loss_function(predictions_targets_inputs,lambda_reg,w)\n",
    "        print(\"Iteration: \",iteration,\" Loss: \",loss)\n",
    "\n",
    "    return w,b\n",
    "\n",
    "def accuracy(w,b,RDD_Xy):\n",
    "    predictions_and_targets=get_predictions_targets_inputs(w,b,RDD_Xy)\n",
    "    correct=predictions_and_targets.map(lambda x: 1 if round(x[0])==x[1] else 0)\n",
    "    correct=correct.reduce(lambda x,y: x+y)\n",
    "    return correct/RDD_Xy.count()"
   ]
  },
  {
   "cell_type": "code",
   "execution_count": 193,
   "metadata": {},
   "outputs": [],
   "source": [
    "n = readFile('data/botnet_reduced_10k_l.csv')"
   ]
  },
  {
   "cell_type": "code",
   "execution_count": 194,
   "metadata": {},
   "outputs": [],
   "source": [
    "normalizado = normalize(n)"
   ]
  },
  {
   "cell_type": "code",
   "execution_count": 207,
   "metadata": {},
   "outputs": [
    {
     "name": "stderr",
     "output_type": "stream",
     "text": [
      "                                                                                \r"
     ]
    },
    {
     "name": "stdout",
     "output_type": "stream",
     "text": [
      "Iteration:  0  Loss:  2.399025759480246\n"
     ]
    },
    {
     "name": "stderr",
     "output_type": "stream",
     "text": [
      "                                                                                \r"
     ]
    },
    {
     "name": "stdout",
     "output_type": "stream",
     "text": [
      "Iteration:  1  Loss:  1.3360761990462704\n"
     ]
    },
    {
     "name": "stderr",
     "output_type": "stream",
     "text": [
      "                                                                                \r"
     ]
    },
    {
     "name": "stdout",
     "output_type": "stream",
     "text": [
      "Iteration:  2  Loss:  0.8305017492493122\n"
     ]
    },
    {
     "name": "stderr",
     "output_type": "stream",
     "text": [
      "                                                                                \r"
     ]
    },
    {
     "name": "stdout",
     "output_type": "stream",
     "text": [
      "Iteration:  3  Loss:  0.6909853027205992\n"
     ]
    },
    {
     "name": "stderr",
     "output_type": "stream",
     "text": [
      "                                                                                \r"
     ]
    },
    {
     "name": "stdout",
     "output_type": "stream",
     "text": [
      "Iteration:  4  Loss:  0.5991254641645511\n",
      "Iteration:  5  Loss:  0.5452527768910823\n"
     ]
    },
    {
     "name": "stderr",
     "output_type": "stream",
     "text": [
      "                                                                                \r"
     ]
    },
    {
     "name": "stdout",
     "output_type": "stream",
     "text": [
      "Iteration:  6  Loss:  0.5100283275199671\n"
     ]
    },
    {
     "name": "stderr",
     "output_type": "stream",
     "text": [
      "                                                                                \r"
     ]
    },
    {
     "name": "stdout",
     "output_type": "stream",
     "text": [
      "Iteration:  7  Loss:  0.495524142484798\n",
      "Iteration:  8  Loss:  0.4761852291045759\n",
      "Iteration:  9  Loss:  0.46099036859154585\n"
     ]
    }
   ],
   "source": [
    "w,b=train(normalizado,10,1.5,0)"
   ]
  },
  {
   "cell_type": "code",
   "execution_count": 208,
   "metadata": {},
   "outputs": [],
   "source": [
    "acc=accuracy(w,b,normalizado)"
   ]
  },
  {
   "cell_type": "code",
   "execution_count": 209,
   "metadata": {},
   "outputs": [
    {
     "name": "stdout",
     "output_type": "stream",
     "text": [
      "accuracy: 0.9334\n"
     ]
    }
   ],
   "source": [
    "print(f\"accuracy: {acc}\")"
   ]
  }
 ],
 "metadata": {
  "kernelspec": {
   "display_name": ".venv",
   "language": "python",
   "name": "python3"
  },
  "language_info": {
   "codemirror_mode": {
    "name": "ipython",
    "version": 3
   },
   "file_extension": ".py",
   "mimetype": "text/x-python",
   "name": "python",
   "nbconvert_exporter": "python",
   "pygments_lexer": "ipython3",
   "version": "3.10.12"
  }
 },
 "nbformat": 4,
 "nbformat_minor": 2
}
