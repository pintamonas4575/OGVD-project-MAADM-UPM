{
 "cells": [
  {
   "cell_type": "code",
   "execution_count": null,
   "metadata": {},
   "outputs": [],
   "source": [
    "import warnings\n",
    "warnings.filterwarnings(\"ignore\")\n",
    "import findspark\n",
    "findspark.init()\n",
    "from pyspark import SparkContext\n",
    "import numpy as np\n",
    "sc = SparkContext(\"local[*]\", \"Name of the Program\")\n"
   ]
  },
  {
   "cell_type": "code",
   "execution_count": 203,
   "metadata": {},
   "outputs": [],
   "source": [
    "def readFile(filename):\n",
    "    rdd = sc.textFile(filename)\n",
    "    rdd_numpy = rdd.map(lambda x : np.array(x.split(\",\"), dtype = float))\n",
    "    rdd_return = rdd_numpy.map(lambda x : (x[:-1], int(x[-1])))\n",
    "    return rdd_return\n",
    "\n",
    "def normalize(RDD_Xy):\n",
    "    \n",
    "    suma = RDD_Xy.reduce(lambda x,y: (np.array(x[0])+np.array(y[0]),x[1]))\n",
    "    total_filas = float(RDD_Xy.count())\n",
    "    media = suma[0] / total_filas\n",
    "\n",
    "    rdd_2 = RDD_Xy.map(lambda x: (x[0],x[1], media)) \n",
    "\n",
    "    restas = rdd_2.map(lambda x: (x[0]-x[2])**2)\n",
    "    sumas = restas.reduce(lambda x,y: x+y)\n",
    "    desviacion = (sumas / total_filas)**0.5\n",
    "\n",
    "    def f(x):\n",
    "        a = (x[0] - media) / desviacion\n",
    "        a= np.nan_to_num(a, copy=False,nan=0.0)\n",
    "        return (a,x[1])\n",
    "\n",
    "    normalizado = RDD_Xy.map(f)\n",
    "    return normalizado\n",
    "\n",
    "def predict(w,b,X,threshold=0.5):\n",
    "    rdd=X.map(lambda x:np.dot(w,np.array(x[0])+b))\n",
    "    logistic= rdd.map(lambda x: 1/(1+np.exp(-x)))\n",
    "    results=logistic.map(lambda x: 1 if x>threshold else 0)\n",
    "    return results\n",
    "\n",
    "def get_predictions_targets_inputs(w,b,X,threshold=0.5):\n",
    "    \"\"\"\n",
    "    Get the predictions, targets and inputs\n",
    "    :param w: weights\n",
    "    :param b: bias\n",
    "    :param X: RDD with the data\n",
    "    :param threshold: threshold to classify the data\n",
    "    :return: RDD with the tuple predictions, targets and inputs\n",
    "    \"\"\"\n",
    "    rdd=X.map(lambda x:(np.dot(w,np.array(x[0])+b),x[1],x[0]))\n",
    "    logistic= rdd.map(lambda x: (1/(1+np.exp(-x[0])),x[1],x[2]))\n",
    "    results=logistic.map(lambda x: ((0.999,x[1],x[2]) if x[0]>threshold else (0.001,x[1],x[2]))) #para evitar log(0)=-inf y log(1)=0\n",
    "    return results\n",
    "\n",
    "# TODO preguntar si la b se incluye en la perdida, porque en la formula del enunciado no aparece\n",
    "\n",
    "def calculate_loss_function(predictions_and_targets,lambda_reg,w):   \n",
    "    \"\"\"\n",
    "    Calculate the loss function for logistic regression\n",
    "    :param predictions_and_targets: RDD with the predictions and the targets\n",
    "    :param lambda_reg: regularization parameter\n",
    "    :param w: weights\n",
    "    :return: loss function\n",
    "    \"\"\"\n",
    "\n",
    "\n",
    "    def f(x):\n",
    "        return (-x[1]*np.log(x[0])-(1-x[1])*np.log(1-x[0]))\n",
    "\n",
    "    loss=predictions_and_targets.map(f)\n",
    "    suma=loss.reduce(lambda x,y: x+y)/predictions_and_targets.count()\n",
    "    squared_w=np.dot(w,w)\n",
    "    squared_w=squared_w*lambda_reg/(2*len(w))\n",
    "    return suma+squared_w\n",
    "\n",
    "\n",
    "\n",
    "# TODO pregunta si el for de los gradientes se puede hacer así\n",
    "\n",
    "def train(RDD_Xy, iterations, learning_rate, lambda_reg):\n",
    "    w = np.random.rand(11)\n",
    "    b=np.random.rand(1)\n",
    "    for iteration in range(iterations):\n",
    "        predictions_targets_inputs=get_predictions_targets_inputs(w,b,RDD_Xy)\n",
    "        for i in range(len(w)):\n",
    "            gradient=predictions_targets_inputs.map(lambda x: (x[0]-x[1])*x[2][i]).reduce(lambda x,y: x+y)/predictions_targets_inputs.count()\n",
    "            gradient=gradient+(lambda_reg*w[i])/len(w)\n",
    "            w[i]=w[i]-learning_rate*gradient\n",
    "        b_gradient=predictions_targets_inputs.map(lambda x: x[0]-x[1]).reduce(lambda x,y: x+y)/predictions_targets_inputs.count()\n",
    "        b=b-learning_rate*b_gradient\n",
    "        loss=calculate_loss_function(predictions_targets_inputs,lambda_reg,w)\n",
    "        print(\"Iteration: \",iteration,\" Loss: \",loss)\n",
    "\n",
    "    return w,b\n",
    "\n",
    "def accuracy(w,b,RDD_Xy):\n",
    "    predictions_and_targets=get_predictions_targets_inputs(w,b,RDD_Xy)\n",
    "    correct=predictions_and_targets.map(lambda x: 1 if round(x[0])==x[1] else 0)\n",
    "    correct=correct.reduce(lambda x,y: x+y)\n",
    "    return correct/RDD_Xy.count()"
   ]
  },
  {
   "cell_type": "code",
   "execution_count": 193,
   "metadata": {},
   "outputs": [],
   "source": [
    "n = readFile('data/botnet_reduced_10k_l.csv')"
   ]
  },
  {
   "cell_type": "code",
   "execution_count": 194,
   "metadata": {},
   "outputs": [],
   "source": [
    "normalizado = normalize(n)"
   ]
  },
  {
   "cell_type": "code",
   "execution_count": 207,
   "metadata": {},
   "outputs": [
    {
     "name": "stderr",
     "output_type": "stream",
     "text": [
      "                                                                                \r"
     ]
    },
    {
     "name": "stdout",
     "output_type": "stream",
     "text": [
      "Iteration:  0  Loss:  2.399025759480246\n"
     ]
    },
    {
     "name": "stderr",
     "output_type": "stream",
     "text": [
      "                                                                                \r"
     ]
    },
    {
     "name": "stdout",
     "output_type": "stream",
     "text": [
      "Iteration:  1  Loss:  1.3360761990462704\n"
     ]
    },
    {
     "name": "stderr",
     "output_type": "stream",
     "text": [
      "                                                                                \r"
     ]
    },
    {
     "name": "stdout",
     "output_type": "stream",
     "text": [
      "Iteration:  2  Loss:  0.8305017492493122\n"
     ]
    },
    {
     "name": "stderr",
     "output_type": "stream",
     "text": [
      "                                                                                \r"
     ]
    },
    {
     "name": "stdout",
     "output_type": "stream",
     "text": [
      "Iteration:  3  Loss:  0.6909853027205992\n"
     ]
    },
    {
     "name": "stderr",
     "output_type": "stream",
     "text": [
      "                                                                                \r"
     ]
    },
    {
     "name": "stdout",
     "output_type": "stream",
     "text": [
      "Iteration:  4  Loss:  0.5991254641645511\n",
      "Iteration:  5  Loss:  0.5452527768910823\n"
     ]
    },
    {
     "name": "stderr",
     "output_type": "stream",
     "text": [
      "                                                                                \r"
     ]
    },
    {
     "name": "stdout",
     "output_type": "stream",
     "text": [
      "Iteration:  6  Loss:  0.5100283275199671\n"
     ]
    },
    {
     "name": "stderr",
     "output_type": "stream",
     "text": [
      "                                                                                \r"
     ]
    },
    {
     "name": "stdout",
     "output_type": "stream",
     "text": [
      "Iteration:  7  Loss:  0.495524142484798\n",
      "Iteration:  8  Loss:  0.4761852291045759\n",
      "Iteration:  9  Loss:  0.46099036859154585\n"
     ]
    }
   ],
   "source": [
    "w,b=train(normalizado,10,1.5,0)"
   ]
  },
  {
   "cell_type": "code",
   "execution_count": 208,
   "metadata": {},
   "outputs": [],
   "source": [
    "acc=accuracy(w,b,normalizado)"
   ]
  },
  {
   "cell_type": "code",
   "execution_count": 209,
   "metadata": {},
   "outputs": [
    {
     "name": "stdout",
     "output_type": "stream",
     "text": [
      "accuracy: 0.9334\n"
     ]
    }
   ],
   "source": [
    "print(f\"accuracy: {acc}\")"
   ]
  }
 ],
 "metadata": {
  "kernelspec": {
   "display_name": ".venv",
   "language": "python",
   "name": "python3"
  },
  "language_info": {
   "codemirror_mode": {
    "name": "ipython",
    "version": 3
   },
   "file_extension": ".py",
   "mimetype": "text/x-python",
   "name": "python",
   "nbconvert_exporter": "python",
   "pygments_lexer": "ipython3",
   "version": "3.10.12"
  }
 },
 "nbformat": 4,
 "nbformat_minor": 2
}
