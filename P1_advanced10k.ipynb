{
 "cells": [
  {
   "cell_type": "markdown",
   "metadata": {},
   "source": [
    "El cuaderno ha sido ejecutado sobre una maquina virtual de  ubuntu arm en un MacBook Pro M1. Se hace uso de parallels, asignando 4 cores y 6 GB de RAM."
   ]
  },
  {
   "cell_type": "code",
   "execution_count": 1,
   "metadata": {},
   "outputs": [],
   "source": [
    "import warnings\n",
    "warnings.filterwarnings(\"ignore\")\n",
    "import findspark\n",
    "findspark.init()\n",
    "import random\n",
    "from pyspark import SparkContext\n",
    "import pyspark\n",
    "import numpy as np\n",
    "import time\n",
    "from tqdm import tqdm\n",
    "import matplotlib.pyplot as plt\n"
   ]
  },
  {
   "cell_type": "code",
   "execution_count": 2,
   "metadata": {},
   "outputs": [
    {
     "name": "stderr",
     "output_type": "stream",
     "text": [
      "25/03/01 17:52:36 WARN Utils: Your hostname, ubuntu-linux-22-04-desktop resolves to a loopback address: 127.0.1.1; using 10.211.55.3 instead (on interface enp0s5)\n",
      "25/03/01 17:52:36 WARN Utils: Set SPARK_LOCAL_IP if you need to bind to another address\n",
      "Setting default log level to \"WARN\".\n",
      "To adjust logging level use sc.setLogLevel(newLevel). For SparkR, use setLogLevel(newLevel).\n",
      "25/03/01 17:52:36 WARN NativeCodeLoader: Unable to load native-hadoop library for your platform... using builtin-java classes where applicable\n"
     ]
    }
   ],
   "source": [
    "sc = SparkContext(\"local[*]\", \"Name of the Program\")"
   ]
  },
  {
   "cell_type": "code",
   "execution_count": 3,
   "metadata": {},
   "outputs": [],
   "source": [
    "\n",
    "def readFile(filename):\n",
    "    rdd = sc.textFile(filename)\n",
    "    rdd_numpy = rdd.map(lambda x : np.array(x.split(\",\"), dtype = float))\n",
    "    rdd_return = rdd_numpy.map(lambda x : (x[:-1], int(x[-1])))\n",
    "    return rdd_return\n",
    "\n",
    "def normalize_value(x, mean, std):\n",
    "    value = (x[0] - mean) / std\n",
    "    normalized_val = np.nan_to_num(value, copy=False, nan=0.0)\n",
    "    return (normalized_val, x[1])\n",
    "\n",
    "def normalize(RDD_Xy):\n",
    "    \n",
    "    rdd_sum = RDD_Xy.reduce(lambda x, y: (np.array(x[0]) + np.array(y[0]), x[1]))\n",
    "    total_rows = float(RDD_Xy.count())\n",
    "    mean = rdd_sum[0] / total_rows\n",
    "\n",
    "    rdd_mean = RDD_Xy.map(lambda x: (x[0], x[1], mean)) \n",
    "\n",
    "    rdd_substract = rdd_mean.map(lambda x: (x[0] - x[2]) ** 2)\n",
    "    rdd_total = rdd_substract.reduce(lambda x, y: x + y)\n",
    "    std = (rdd_total / total_rows) ** 0.5\n",
    " \n",
    "\n",
    "    rdd_normalized = RDD_Xy.map(lambda x: normalize_value(x, mean, std))\n",
    "    return rdd_normalized\n",
    "\n",
    "def predict(w, b, X, threshold=0.5):\n",
    "    value = np.dot(w, X) + b\n",
    "    value = 1 / (1 + np.exp(-value))\n",
    "    return  1 if value > threshold else 0\n",
    "\n",
    "def loss_function(x):\n",
    "    return (-x[1] * np.log(x[0]) - (1 - x[1]) * np.log(1 - x[0]))\n",
    "\n",
    "def calculate_loss_function(predictions_and_targets,lambda_reg,w):   \n",
    "    \"\"\"\n",
    "    Calculate the loss function for logistic regression\n",
    "    :param predictions_and_targets: RDD with the predictions and the targets\n",
    "    :param lambda_reg: regularization parameter\n",
    "    :param w: weights\n",
    "    :return: loss function\n",
    "    \"\"\"\n",
    "\n",
    "    loss = predictions_and_targets.map(loss_function)\n",
    "    sum = loss.reduce(lambda x,y: x + y) / predictions_and_targets.count()\n",
    "    squared_w = np.dot(w, w)\n",
    "    squared_w = squared_w * lambda_reg / (2 * len(w))\n",
    "    return sum + squared_w\n",
    "\n",
    "def predict_train(w, b, X,):\n",
    "    value = np.dot(w, X) + b\n",
    "    return 1 / (1 + np.exp(-value))\n",
    "\n",
    "def train(RDD_Xy, iterations, learning_rate, lambda_reg):\n",
    "    w = np.random.rand(11)\n",
    "    b = np.random.rand(1)\n",
    "    \n",
    "    for iteration in range(iterations):\n",
    "        predictions_targets_inputs = RDD_Xy.map(lambda x: (predict_train(w, b, x[0]), x[1], x[0]))\n",
    "        \n",
    "        count = predictions_targets_inputs.count()\n",
    "        \n",
    "        gradients = predictions_targets_inputs.map(lambda x: ((x[0] - x[1]) * np.array(x[2]), x[0] - x[1]))\n",
    "        \n",
    "        gradient_w = gradients.map(lambda x: x[0]).reduce(lambda x, y: x + y) / count + (lambda_reg * w) / len(w)\n",
    "        gradient_b = gradients.map(lambda x: x[1]).reduce(lambda x, y: x + y) / count\n",
    "        \n",
    "        w -= learning_rate * gradient_w\n",
    "        b -= learning_rate * gradient_b\n",
    "        \n",
    "        loss = calculate_loss_function(predictions_targets_inputs, lambda_reg, w)\n",
    "        print(f\"Iteration: {iteration}, Loss: {loss}\")\n",
    "    \n",
    "    return w, b\n",
    "\n",
    "def accuracy(w,b,RDD_Xy):\n",
    "    predictions_and_targets = RDD_Xy.map(lambda x: (predict(w, b, x[0]), x[1]))\n",
    "    correct = predictions_and_targets.map(lambda x: 1 if round(x[0]) == x[1] else 0)\n",
    "    correct = correct.reduce(lambda x, y: x + y)\n",
    "    return correct / predictions_and_targets.count()\n",
    "\n",
    "def transform(data,num_blocks_cv):\n",
    "    data = data.map(lambda x: (random.randint(0, num_blocks_cv-1), x[0], x[1]))\n",
    "    return data\n",
    "\n",
    "def get_block_data(data_cv: pyspark.rdd.RDD, i):\n",
    "    train_data = data_cv.flatMap(lambda x: [(x[1], x[2])] if x[0] != i else [])\n",
    "    test_data = data_cv.flatMap(lambda x: [(x[1], x[2])] if x[0] == i else [])\n",
    "    return train_data, test_data\n"
   ]
  },
  {
   "cell_type": "markdown",
   "metadata": {},
   "source": [
    "## **EJERCICIO 1**"
   ]
  },
  {
   "cell_type": "code",
   "execution_count": 4,
   "metadata": {},
   "outputs": [
    {
     "name": "stderr",
     "output_type": "stream",
     "text": [
      "                                                                                \r"
     ]
    },
    {
     "name": "stdout",
     "output_type": "stream",
     "text": [
      "Iteration: 0, Loss: [0.65376924]\n",
      "Iteration: 1, Loss: [0.43447902]\n",
      "Iteration: 2, Loss: [0.3419656]\n",
      "Iteration: 3, Loss: [0.29560722]\n",
      "Iteration: 4, Loss: [0.26857065]\n",
      "Iteration: 5, Loss: [0.25093636]\n",
      "Iteration: 6, Loss: [0.2385026]\n",
      "Iteration: 7, Loss: [0.22923849]\n",
      "Iteration: 8, Loss: [0.22205094]\n",
      "Iteration: 9, Loss: [0.2163003]\n",
      "Final accuracy: 0.9269\n"
     ]
    }
   ],
   "source": [
    "n = readFile('/home/parallels/Desktop/spark/OGVD-project-MAADM-UPM/data/botnet_reduced_10k_l.csv')\n",
    "\n",
    "normalizado = normalize(n)\n",
    "\n",
    "w,b=train(normalizado,10,1.5,0)\n",
    "\n",
    "acc=accuracy(w,b,normalizado)\n",
    "print(f\"Final accuracy: {acc}\")"
   ]
  },
  {
   "cell_type": "markdown",
   "metadata": {},
   "source": [
    "## **EJERCICIO 2**"
   ]
  },
  {
   "cell_type": "code",
   "execution_count": 5,
   "metadata": {},
   "outputs": [
    {
     "name": "stdout",
     "output_type": "stream",
     "text": [
      "--------------------------------------------------\n",
      "Block 0\n",
      "Iteration: 0, Loss: [0.6565269]\n",
      "Iteration: 1, Loss: [0.43508397]\n",
      "Iteration: 2, Loss: [0.33961292]\n",
      "Iteration: 3, Loss: [0.29194578]\n",
      "Iteration: 4, Loss: [0.26468901]\n",
      "Iteration: 5, Loss: [0.24732534]\n",
      "Iteration: 6, Loss: [0.23535106]\n",
      "Iteration: 7, Loss: [0.22659418]\n",
      "Iteration: 8, Loss: [0.2198986]\n",
      "Iteration: 9, Loss: [0.21459916]\n",
      "Accuracy: 0.9375\n",
      "--------------------------------------------------\n",
      "Block 1\n",
      "Iteration: 0, Loss: [0.76845175]\n",
      "Iteration: 1, Loss: [0.46452209]\n",
      "Iteration: 2, Loss: [0.34960214]\n",
      "Iteration: 3, Loss: [0.29737155]\n",
      "Iteration: 4, Loss: [0.26854306]\n",
      "Iteration: 5, Loss: [0.25034422]\n",
      "Iteration: 6, Loss: [0.23778417]\n",
      "Iteration: 7, Loss: [0.22856584]\n",
      "Iteration: 8, Loss: [0.2214929]\n",
      "Iteration: 9, Loss: [0.21588195]\n",
      "Accuracy: 0.9430569430569431\n",
      "--------------------------------------------------\n",
      "Block 2\n",
      "Iteration: 0, Loss: [0.76736775]\n",
      "Iteration: 1, Loss: [0.46994701]\n",
      "Iteration: 2, Loss: [0.3596287]\n",
      "Iteration: 3, Loss: [0.30701475]\n",
      "Iteration: 4, Loss: [0.27648652]\n",
      "Iteration: 5, Loss: [0.25655478]\n",
      "Iteration: 6, Loss: [0.24252351]\n",
      "Iteration: 7, Loss: [0.23212103]\n",
      "Iteration: 8, Loss: [0.22411078]\n",
      "Iteration: 9, Loss: [0.21776003]\n",
      "Accuracy: 0.9343283582089552\n",
      "--------------------------------------------------\n",
      "Block 3\n",
      "Iteration: 0, Loss: [0.74988956]\n",
      "Iteration: 1, Loss: [0.4776644]\n",
      "Iteration: 2, Loss: [0.36741269]\n",
      "Iteration: 3, Loss: [0.31314255]\n",
      "Iteration: 4, Loss: [0.28188897]\n",
      "Iteration: 5, Loss: [0.26159072]\n",
      "Iteration: 6, Loss: [0.24729156]\n",
      "Iteration: 7, Loss: [0.2366401]\n",
      "Iteration: 8, Loss: [0.22838025]\n",
      "Iteration: 9, Loss: [0.22177826]\n",
      "Accuracy: 0.9190523198420533\n",
      "--------------------------------------------------\n",
      "Block 4\n",
      "Iteration: 0, Loss: [0.59463853]\n",
      "Iteration: 1, Loss: [0.39780236]\n",
      "Iteration: 2, Loss: [0.31743082]\n",
      "Iteration: 3, Loss: [0.27799272]\n",
      "Iteration: 4, Loss: [0.2554494]\n",
      "Iteration: 5, Loss: [0.24089956]\n",
      "Iteration: 6, Loss: [0.23066481]\n",
      "Iteration: 7, Loss: [0.22301365]\n",
      "Iteration: 8, Loss: [0.21703567]\n",
      "Iteration: 9, Loss: [0.21220841]\n",
      "Accuracy: 0.9301848049281314\n",
      "--------------------------------------------------\n",
      "Block 5\n",
      "Iteration: 0, Loss: [0.73589505]\n",
      "Iteration: 1, Loss: [0.45804728]\n",
      "Iteration: 2, Loss: [0.35305059]\n",
      "Iteration: 3, Loss: [0.30219705]\n",
      "Iteration: 4, Loss: [0.27271086]\n",
      "Iteration: 5, Loss: [0.25357605]\n",
      "Iteration: 6, Loss: [0.24018539]\n",
      "Iteration: 7, Loss: [0.23029465]\n",
      "Iteration: 8, Loss: [0.22268662]\n",
      "Iteration: 9, Loss: [0.21664668]\n",
      "Accuracy: 0.9238578680203046\n",
      "--------------------------------------------------\n",
      "Block 6\n",
      "Iteration: 0, Loss: [0.57939683]\n",
      "Iteration: 1, Loss: [0.39523918]\n",
      "Iteration: 2, Loss: [0.31813224]\n",
      "Iteration: 3, Loss: [0.27941667]\n",
      "Iteration: 4, Loss: [0.25664566]\n",
      "Iteration: 5, Loss: [0.24170207]\n",
      "Iteration: 6, Loss: [0.23112199]\n",
      "Iteration: 7, Loss: [0.22320877]\n",
      "Iteration: 8, Loss: [0.21704139]\n",
      "Iteration: 9, Loss: [0.21207937]\n",
      "Accuracy: 0.925343811394892\n",
      "--------------------------------------------------\n",
      "Block 7\n",
      "Iteration: 0, Loss: [0.56207594]\n",
      "Iteration: 1, Loss: [0.39404915]\n",
      "Iteration: 2, Loss: [0.32299664]\n",
      "Iteration: 3, Loss: [0.28556464]\n",
      "Iteration: 4, Loss: [0.26267688]\n",
      "Iteration: 5, Loss: [0.24723783]\n",
      "Iteration: 6, Loss: [0.23609371]\n",
      "Iteration: 7, Loss: [0.22764571]\n",
      "Iteration: 8, Loss: [0.22100099]\n",
      "Iteration: 9, Loss: [0.21562304]\n",
      "Accuracy: 0.9292364990689013\n",
      "--------------------------------------------------\n",
      "Block 8\n",
      "Iteration: 0, Loss: [0.54516447]\n",
      "Iteration: 1, Loss: [0.37099858]\n",
      "Iteration: 2, Loss: [0.30596408]\n",
      "Iteration: 3, Loss: [0.27319241]\n",
      "Iteration: 4, Loss: [0.25335372]\n",
      "Iteration: 5, Loss: [0.23992705]\n",
      "Iteration: 6, Loss: [0.23015447]\n",
      "Iteration: 7, Loss: [0.22267363]\n",
      "Iteration: 8, Loss: [0.21673273]\n",
      "Iteration: 9, Loss: [0.2118815]\n",
      "Accuracy: 0.9223697650663942\n",
      "--------------------------------------------------\n",
      "Block 9\n",
      "Iteration: 0, Loss: [0.70415866]\n",
      "Iteration: 1, Loss: [0.46417013]\n",
      "Iteration: 2, Loss: [0.36475774]\n",
      "Iteration: 3, Loss: [0.314799]\n",
      "Iteration: 4, Loss: [0.2850183]\n",
      "Iteration: 5, Loss: [0.26518319]\n",
      "Iteration: 6, Loss: [0.25097954]\n",
      "Iteration: 7, Loss: [0.24027991]\n",
      "Iteration: 8, Loss: [0.23191231]\n",
      "Iteration: 9, Loss: [0.22517727]\n",
      "Accuracy: 0.9238790406673618\n",
      "Mean accuracy: 0.9288809410253938\n"
     ]
    }
   ],
   "source": [
    "num_blocks_cv=10\n",
    "rdd_with_keys = transform(normalizado, num_blocks_cv)\n",
    "rdd_with_keys.cache()\n",
    "_ = rdd_with_keys.count() # to cache the data\n",
    "all_ac=[]\n",
    "for i in range(num_blocks_cv):\n",
    "    train_data, test_data = get_block_data(rdd_with_keys, i)\n",
    "    print(\"-\"*50)\n",
    "    print(f\"Block {i}\")\n",
    "    w,b=train(train_data,10,1.5,0)\n",
    "    acc=accuracy(w,b,test_data)\n",
    "    all_ac.append(acc)\n",
    "    print(f\"Accuracy: {acc}\")\n",
    "print(f\"Mean accuracy: {np.mean(all_ac)}\")"
   ]
  },
  {
   "cell_type": "code",
   "execution_count": 6,
   "metadata": {},
   "outputs": [
    {
     "data": {
      "image/png": "[encoded data removed]",
      "text/plain": [
       "<Figure size 640x480 with 1 Axes>"
      ]
     },
     "metadata": {},
     "output_type": "display_data"
    }
   ],
   "source": [
    "import matplotlib.pyplot as plt\n",
    "plt.boxplot(all_ac)\n",
    "plt.xlabel('Blocks')\n",
    "plt.ylabel('Accuracy')\n",
    "plt.title('Boxplot of Accuracy per Block')\n",
    "plt.show()"
   ]
  },
  {
   "cell_type": "code",
   "execution_count": 7,
   "metadata": {},
   "outputs": [
    {
     "data": {
      "image/png": "[encoded data removed]",
      "text/plain": [
       "<Figure size 640x480 with 1 Axes>"
      ]
     },
     "metadata": {},
     "output_type": "display_data"
    }
   ],
   "source": [
    "colors = plt.cm.viridis((np.array(all_ac) - min(all_ac)) / (max(all_ac) - min(all_ac)))\n",
    "plt.bar(range(num_blocks_cv), all_ac, color=colors)\n",
    "plt.xlabel('Block')\n",
    "plt.ylabel('Accuracy')\n",
    "plt.title('Accuracy per Block')\n",
    "plt.ylim(0.90, 0.96)\n",
    "plt.show()\n"
   ]
  },
  {
   "cell_type": "markdown",
   "metadata": {},
   "source": [
    "# Memoria parte 1"
   ]
  },
  {
   "cell_type": "code",
   "execution_count": 8,
   "metadata": {},
   "outputs": [],
   "source": [
    "def ej1_train(RDD_Xy, iterations, learning_rate, lambda_reg):\n",
    "    w = np.random.rand(11)\n",
    "    b = np.random.rand(1)\n",
    "    costs = []\n",
    "    for iteration in range(iterations):\n",
    "        predictions_targets_inputs = RDD_Xy.map(lambda x: (predict_train(w, b, x[0]), x[1], x[0]))\n",
    "        \n",
    "        count = predictions_targets_inputs.count()\n",
    "        \n",
    "        gradients = predictions_targets_inputs.map(lambda x: ((x[0] - x[1]) * np.array(x[2]), x[0] - x[1]))\n",
    "        \n",
    "        gradient_w = gradients.map(lambda x: x[0]).reduce(lambda x, y: x + y) / count + (lambda_reg * w) / len(w)\n",
    "        gradient_b = gradients.map(lambda x: x[1]).reduce(lambda x, y: x + y) / count\n",
    "        \n",
    "        w -= learning_rate * gradient_w\n",
    "        b -= learning_rate * gradient_b\n",
    "        \n",
    "        loss = calculate_loss_function(predictions_targets_inputs, lambda_reg, w)\n",
    "        costs.append(loss)\n",
    "    return w, b, costs"
   ]
  },
  {
   "cell_type": "code",
   "execution_count": 9,
   "metadata": {},
   "outputs": [
    {
     "name": "stderr",
     "output_type": "stream",
     "text": [
      "Learning rates: 100%|██████████| 7/7 [00:58<00:00,  8.33s/it]\n"
     ]
    },
    {
     "data": {
      "image/png": "[encoded data removed]",
      "text/plain": [
       "<Figure size 800x600 with 1 Axes>"
      ]
     },
     "metadata": {},
     "output_type": "display_data"
    }
   ],
   "source": [
    "n = readFile('/home/parallels/Desktop/spark/OGVD-project-MAADM-UPM/data/botnet_reduced_10k_l.csv')\n",
    "\n",
    "normalizado = normalize(n)\n",
    "total_costs=[]\n",
    "learning_rates=[0.3,0.6,0.9,1.2,1.5,1.8,2.1]\n",
    "\n",
    "colors = plt.cm.Accent((np.array(learning_rates) - min(learning_rates)) / (max(learning_rates) - min(learning_rates)))\n",
    "lambda_reg=0\n",
    "plt.figure(figsize=(8, 6))\n",
    "for learning_rate in tqdm(learning_rates, desc=f\"Learning rates\"):\n",
    "    w,b,costs=ej1_train(normalizado,10,learning_rate,0)\n",
    "    total_costs.append(costs)\n",
    "\n",
    "    plt.plot(costs, marker='o', linestyle='-',color=colors[learning_rates.index(learning_rate)],label=f\"Learning rate: {learning_rate}\")\n",
    "plt.xlabel(\"Iteration\")\n",
    "plt.ylabel(\"Cost\")\n",
    "plt.title(\"Iteration vs Cost Curve\")\n",
    "plt.grid()\n",
    "plt.legend()\n",
    "plt.savefig(f\"results/Ej_1_cost_curve_learning_rate_10k.png\")  # Guardar imagen\n",
    "plt.show()"
   ]
  },
  {
   "cell_type": "code",
   "execution_count": 10,
   "metadata": {},
   "outputs": [
    {
     "name": "stderr",
     "output_type": "stream",
     "text": [
      "Lambdas:   0%|          | 0/7 [00:00<?, ?it/s]"
     ]
    },
    {
     "name": "stdout",
     "output_type": "stream",
     "text": [
      "0\n"
     ]
    },
    {
     "name": "stderr",
     "output_type": "stream",
     "text": [
      "Lambdas:  14%|█▍        | 1/7 [00:08<00:50,  8.37s/it]"
     ]
    },
    {
     "name": "stdout",
     "output_type": "stream",
     "text": [
      "0.1\n"
     ]
    },
    {
     "name": "stderr",
     "output_type": "stream",
     "text": [
      "Lambdas:  29%|██▊       | 2/7 [00:16<00:41,  8.38s/it]"
     ]
    },
    {
     "name": "stdout",
     "output_type": "stream",
     "text": [
      "0.2\n"
     ]
    },
    {
     "name": "stderr",
     "output_type": "stream",
     "text": [
      "Lambdas:  43%|████▎     | 3/7 [00:25<00:33,  8.39s/it]"
     ]
    },
    {
     "name": "stdout",
     "output_type": "stream",
     "text": [
      "0.3\n"
     ]
    },
    {
     "name": "stderr",
     "output_type": "stream",
     "text": [
      "Lambdas:  57%|█████▋    | 4/7 [00:34<00:25,  8.60s/it]"
     ]
    },
    {
     "name": "stdout",
     "output_type": "stream",
     "text": [
      "0.4\n"
     ]
    },
    {
     "name": "stderr",
     "output_type": "stream",
     "text": [
      "Lambdas:  71%|███████▏  | 5/7 [00:42<00:17,  8.54s/it]"
     ]
    },
    {
     "name": "stdout",
     "output_type": "stream",
     "text": [
      "0.5\n"
     ]
    },
    {
     "name": "stderr",
     "output_type": "stream",
     "text": [
      "Lambdas:  86%|████████▌ | 6/7 [00:50<00:08,  8.46s/it]"
     ]
    },
    {
     "name": "stdout",
     "output_type": "stream",
     "text": [
      "0.6\n"
     ]
    },
    {
     "name": "stderr",
     "output_type": "stream",
     "text": [
      "Lambdas: 100%|██████████| 7/7 [00:59<00:00,  8.45s/it]\n"
     ]
    },
    {
     "data": {
      "image/png": "[encoded data removed]",
      "text/plain": [
       "<Figure size 800x600 with 1 Axes>"
      ]
     },
     "metadata": {},
     "output_type": "display_data"
    }
   ],
   "source": [
    "n = readFile('/home/parallels/Desktop/spark/OGVD-project-MAADM-UPM/data/botnet_reduced_10k_l.csv')\n",
    "\n",
    "normalizado = normalize(n)\n",
    "lambdas=[0,0.1,0.2,0.3,0.4,0.5,0.6]\n",
    "\n",
    "colors = plt.cm.Accent((np.array(lambdas) - min(lambdas)) / (max(lambdas) - min(lambdas)))\n",
    "plt.figure(figsize=(8, 6))\n",
    "for lamb in tqdm(lambdas, desc=f\"Lambdas\"):\n",
    "    print(lamb)\n",
    "    w,b,costs=ej1_train(normalizado,10,1.5,lamb)\n",
    "\n",
    "    plt.plot(costs, marker='o', linestyle='-',color=colors[lambdas.index(lamb)],label=f\"Lambda: {lamb}\")\n",
    "plt.xlabel(\"Iteration\")\n",
    "plt.ylabel(\"Cost\")\n",
    "plt.title(\"Iteration vs Cost Curve\")\n",
    "plt.grid()\n",
    "plt.legend()\n",
    "plt.savefig(f\"results/Ej_1_cost_curve_lambda_10k.png\")  # Guardar imagen\n",
    "plt.show()"
   ]
  },
  {
   "cell_type": "markdown",
   "metadata": {},
   "source": [
    "## Memoria Parte 2"
   ]
  },
  {
   "cell_type": "code",
   "execution_count": 11,
   "metadata": {},
   "outputs": [
    {
     "name": "stderr",
     "output_type": "stream",
     "text": [
      "Workers:   0%|          | 0/7 [00:00<?, ?it/s]"
     ]
    },
    {
     "name": "stdout",
     "output_type": "stream",
     "text": [
      "1\n"
     ]
    },
    {
     "name": "stderr",
     "output_type": "stream",
     "text": [
      "Workers:  14%|█▍        | 1/7 [00:14<01:25, 14.27s/it]"
     ]
    },
    {
     "name": "stdout",
     "output_type": "stream",
     "text": [
      "2\n"
     ]
    },
    {
     "name": "stderr",
     "output_type": "stream",
     "text": [
      "Workers:  29%|██▊       | 2/7 [00:24<00:58, 11.65s/it]"
     ]
    },
    {
     "name": "stdout",
     "output_type": "stream",
     "text": [
      "3\n"
     ]
    },
    {
     "name": "stderr",
     "output_type": "stream",
     "text": [
      "Workers:  43%|████▎     | 3/7 [00:33<00:43, 10.78s/it]"
     ]
    },
    {
     "name": "stdout",
     "output_type": "stream",
     "text": [
      "4\n"
     ]
    },
    {
     "name": "stderr",
     "output_type": "stream",
     "text": [
      "Workers:  57%|█████▋    | 4/7 [00:43<00:31, 10.37s/it]"
     ]
    },
    {
     "name": "stdout",
     "output_type": "stream",
     "text": [
      "5\n"
     ]
    },
    {
     "name": "stderr",
     "output_type": "stream",
     "text": [
      "Workers:  71%|███████▏  | 5/7 [00:53<00:20, 10.17s/it]"
     ]
    },
    {
     "name": "stdout",
     "output_type": "stream",
     "text": [
      "6\n"
     ]
    },
    {
     "name": "stderr",
     "output_type": "stream",
     "text": [
      "Workers:  86%|████████▌ | 6/7 [01:03<00:10, 10.01s/it]"
     ]
    },
    {
     "name": "stdout",
     "output_type": "stream",
     "text": [
      "7\n"
     ]
    },
    {
     "name": "stderr",
     "output_type": "stream",
     "text": [
      "Workers: 100%|██████████| 7/7 [01:12<00:00, 10.39s/it]\n"
     ]
    },
    {
     "data": {
      "image/png": "[encoded data removed]",
      "text/plain": [
       "<Figure size 800x600 with 1 Axes>"
      ]
     },
     "metadata": {},
     "output_type": "display_data"
    }
   ],
   "source": [
    "\n",
    "n_worker=4\n",
    "workers=range(1,n_worker+4)\n",
    "\n",
    "try:\n",
    "    sc.stop()\n",
    "except:\n",
    "    pass\n",
    "totals=[]\n",
    "plt.figure(figsize=(8, 6))\n",
    "for worker in tqdm(workers, desc=f\"Workers\"):\n",
    "    print(worker)\n",
    "    sc = SparkContext(f\"local[{worker}]\", \"Name of the Program\")\n",
    "    n = readFile('/home/parallels/Desktop/spark/OGVD-project-MAADM-UPM/data/botnet_reduced_10k_l.csv')   \n",
    "    normalizado = normalize(n)\n",
    "    inicio=time.time()\n",
    "    w,b,costs=ej1_train(normalizado,10,1.5,0)\n",
    "    fin=time.time()\n",
    "    sc.stop()\n",
    "    totals.append(fin-inicio)\n",
    "\n",
    "plt.plot(range(1, len(totals) + 1), totals, marker='o', linestyle='-')\n",
    "plt.xlabel(\"# Workers\")\n",
    "plt.ylabel(\"Time (s)\")\n",
    "plt.title(\"Workers vs Time\")\n",
    "plt.grid()\n",
    "plt.legend()\n",
    "plt.savefig(f\"results/Ej_2_time_workers_10k.png\") \n",
    "plt.show()"
   ]
  },
  {
   "cell_type": "code",
   "execution_count": 12,
   "metadata": {},
   "outputs": [
    {
     "name": "stdout",
     "output_type": "stream",
     "text": [
      "Ratios de aceleración: {2: 1.5408057104150539, 3: 1.5475184043124526, 4: 1.551295542377628, 5: 1.531722763890937, 6: 1.5564894574469301, 7: 1.5625300114874672}\n"
     ]
    },
    {
     "data": {
      "image/png": "[encoded data removed]",
      "text/plain": [
       "<Figure size 800x500 with 1 Axes>"
      ]
     },
     "metadata": {},
     "output_type": "display_data"
    }
   ],
   "source": [
    "# Tiempos calculados de la ejecucion anterior\n",
    "def calcular_ratio_aceleracion(tiempo_worker_1, tiempos_workers_n):\n",
    "    \"\"\"\n",
    "    Calcula el ratio de aceleración del tiempo.\n",
    "    \n",
    "    :param tiempo_worker_1: Tiempo de ejecución con 1 worker.\n",
    "    :param tiempos_workers_n: Diccionario con claves como número de workers y valores como tiempos de ejecución.\n",
    "    :return: Diccionario con claves como número de workers y valores como ratio de aceleración.\n",
    "    \"\"\"\n",
    "    ratio_aceleracion = {}\n",
    "    for n, tiempo_n in tiempos_workers_n.items():\n",
    "        if tiempo_n > 0:\n",
    "            ratio_aceleracion[n] = tiempo_worker_1 / tiempo_n\n",
    "        else:\n",
    "            ratio_aceleracion[n] = None  \n",
    "    \n",
    "    return ratio_aceleracion\n",
    "\n",
    "# Ejemplo de uso\n",
    "tiempo_worker_1 = totals[0]  # Tiempo de ejecución con 1 worker en segundos\n",
    "tiempos_workers_n = {\n",
    "    2: totals[1],\n",
    "    3: totals[2],\n",
    "    4: totals[3],\n",
    "    5: totals[4],\n",
    "    6: totals[5],\n",
    "    7: totals[6]\n",
    "}\n",
    "\n",
    "ratios = calcular_ratio_aceleracion(tiempo_worker_1, tiempos_workers_n)\n",
    "print(\"Ratios de aceleración:\", ratios)\n",
    "\n",
    "# Graficar los resultados\n",
    "plt.figure(figsize=(8, 5))\n",
    "plt.plot(list(ratios.keys()), list(ratios.values()), marker='o', linestyle='-', color='b', label='Ratio de Aceleración')\n",
    "plt.xlabel(\"Número de Workers\")\n",
    "plt.ylabel(\"Ratio de Aceleración\")\n",
    "plt.title(\"Ratio de Aceleración vs Número de Workers\")\n",
    "plt.legend()\n",
    "plt.grid()\n",
    "plt.savefig(f\"results/Ej_2_speed_up_10k.png\") \n",
    "\n",
    "plt.show()\n"
   ]
  },
  {
   "cell_type": "markdown",
   "metadata": {},
   "source": [
    "## Memoria Parte 3"
   ]
  },
  {
   "cell_type": "markdown",
   "metadata": {},
   "source": [
    "### Tiempo normal"
   ]
  },
  {
   "cell_type": "code",
   "execution_count": 15,
   "metadata": {},
   "outputs": [],
   "source": [
    "sc = SparkContext(\"local[*]\", \"Name of the Program\")"
   ]
  },
  {
   "cell_type": "code",
   "execution_count": null,
   "metadata": {},
   "outputs": [
    {
     "name": "stdout",
     "output_type": "stream",
     "text": [
      "Iteration: 0, Loss: [0.64601756]\n"
     ]
    }
   ],
   "source": [
    "\n",
    "n = readFile('/home/parallels/Desktop/spark/OGVD-project-MAADM-UPM/data/botnet_reduced_10k_l.csv')\n",
    "start_time = time.time()\n",
    "normalizado = normalize(n)\n",
    "\n",
    "w,b=train(normalizado,10,1.5,0)\n",
    "\n",
    "acc=accuracy(w,b,normalizado)\n",
    "print(f\"Final accuracy: {acc}\")\n",
    "end_time = time.time()\n",
    "normal_time = end_time - start_time\n",
    "print(normal_time)"
   ]
  },
  {
   "cell_type": "markdown",
   "metadata": {},
   "source": [
    "### Cacheamos el normalizado"
   ]
  },
  {
   "cell_type": "code",
   "execution_count": null,
   "metadata": {},
   "outputs": [
    {
     "name": "stderr",
     "output_type": "stream",
     "text": [
      "                                                                                \r"
     ]
    },
    {
     "name": "stdout",
     "output_type": "stream",
     "text": [
      "Iteration: 0, Loss: [0.69745567]\n"
     ]
    },
    {
     "name": "stderr",
     "output_type": "stream",
     "text": [
      "                                                                                \r"
     ]
    },
    {
     "name": "stdout",
     "output_type": "stream",
     "text": [
      "Iteration: 1, Loss: [0.4178144]\n"
     ]
    },
    {
     "name": "stderr",
     "output_type": "stream",
     "text": [
      "                                                                                \r"
     ]
    },
    {
     "name": "stdout",
     "output_type": "stream",
     "text": [
      "Iteration: 2, Loss: [0.33056604]\n"
     ]
    },
    {
     "name": "stderr",
     "output_type": "stream",
     "text": [
      "                                                                                \r"
     ]
    },
    {
     "name": "stdout",
     "output_type": "stream",
     "text": [
      "Iteration: 3, Loss: [0.29057757]\n"
     ]
    },
    {
     "name": "stderr",
     "output_type": "stream",
     "text": [
      "                                                                                \r"
     ]
    },
    {
     "name": "stdout",
     "output_type": "stream",
     "text": [
      "Iteration: 4, Loss: [0.26670944]\n"
     ]
    },
    {
     "name": "stderr",
     "output_type": "stream",
     "text": [
      "                                                                                \r"
     ]
    },
    {
     "name": "stdout",
     "output_type": "stream",
     "text": [
      "Iteration: 5, Loss: [0.25041489]\n"
     ]
    },
    {
     "name": "stderr",
     "output_type": "stream",
     "text": [
      "                                                                                \r"
     ]
    },
    {
     "name": "stdout",
     "output_type": "stream",
     "text": [
      "Iteration: 6, Loss: [0.23841285]\n"
     ]
    },
    {
     "name": "stderr",
     "output_type": "stream",
     "text": [
      "                                                                                \r"
     ]
    },
    {
     "name": "stdout",
     "output_type": "stream",
     "text": [
      "Iteration: 7, Loss: [0.22913761]\n"
     ]
    },
    {
     "name": "stderr",
     "output_type": "stream",
     "text": [
      "                                                                                \r"
     ]
    },
    {
     "name": "stdout",
     "output_type": "stream",
     "text": [
      "Iteration: 8, Loss: [0.22172752]\n"
     ]
    },
    {
     "name": "stderr",
     "output_type": "stream",
     "text": [
      "                                                                                \r"
     ]
    },
    {
     "name": "stdout",
     "output_type": "stream",
     "text": [
      "Iteration: 9, Loss: [0.21565999]\n"
     ]
    },
    {
     "name": "stderr",
     "output_type": "stream",
     "text": [
      "[Stage 59:=========================>                                (4 + 4) / 9]\r"
     ]
    },
    {
     "name": "stdout",
     "output_type": "stream",
     "text": [
      "Final accuracy: 0.927782\n",
      "138.7232768535614\n"
     ]
    },
    {
     "name": "stderr",
     "output_type": "stream",
     "text": [
      "                                                                                \r"
     ]
    }
   ],
   "source": [
    "\n",
    "n = readFile('/home/parallels/Desktop/spark/OGVD-project-MAADM-UPM/data/botnet_reduced_10k_l.csv')\n",
    "start_time = time.time()\n",
    "normalizado = normalize(n)\n",
    "normalizado.cache()\n",
    "_ = normalizado.count()\n",
    "w,b=train(normalizado,10,1.5,0)\n",
    "\n",
    "acc=accuracy(w,b,normalizado)\n",
    "print(f\"Final accuracy: {acc}\")\n",
    "end_time = time.time()\n",
    "cached_normalizado = end_time - start_time\n",
    "print(cached_normalizado)"
   ]
  },
  {
   "cell_type": "markdown",
   "metadata": {},
   "source": [
    "### Cachemos gradientes"
   ]
  },
  {
   "cell_type": "code",
   "execution_count": null,
   "metadata": {},
   "outputs": [],
   "source": [
    "def train_cached_grad(RDD_Xy, iterations, learning_rate, lambda_reg):\n",
    "    w = np.random.rand(11)\n",
    "    b = np.random.rand(1)\n",
    "    \n",
    "    for iteration in range(iterations):\n",
    "        predictions_targets_inputs = RDD_Xy.map(lambda x: (predict_train(w, b, x[0]), x[1], x[0]))\n",
    "        \n",
    "        count = predictions_targets_inputs.count()\n",
    "        \n",
    "        gradients = predictions_targets_inputs.map(lambda x: ((x[0] - x[1]) * np.array(x[2]), x[0] - x[1]))\n",
    "        gradients.cache()\n",
    "        _ = gradients.count()\n",
    "        gradient_w = gradients.map(lambda x: x[0]).reduce(lambda x, y: x + y) / count + (lambda_reg * w) / len(w)\n",
    "        gradient_b = gradients.map(lambda x: x[1]).reduce(lambda x, y: x + y) / count\n",
    "        \n",
    "        w -= learning_rate * gradient_w\n",
    "        b -= learning_rate * gradient_b\n",
    "        \n",
    "        loss = calculate_loss_function(predictions_targets_inputs, lambda_reg, w)\n",
    "        print(f\"Iteration: {iteration}, Loss: {loss}\")\n",
    "    \n",
    "    return w, b"
   ]
  },
  {
   "cell_type": "code",
   "execution_count": null,
   "metadata": {},
   "outputs": [
    {
     "name": "stderr",
     "output_type": "stream",
     "text": [
      "                                                                                \r"
     ]
    },
    {
     "name": "stdout",
     "output_type": "stream",
     "text": [
      "Iteration: 0, Loss: [0.60371984]\n"
     ]
    },
    {
     "name": "stderr",
     "output_type": "stream",
     "text": [
      "                                                                                \r"
     ]
    },
    {
     "name": "stdout",
     "output_type": "stream",
     "text": [
      "Iteration: 1, Loss: [0.41089351]\n"
     ]
    },
    {
     "name": "stderr",
     "output_type": "stream",
     "text": [
      "                                                                                \r"
     ]
    },
    {
     "name": "stdout",
     "output_type": "stream",
     "text": [
      "Iteration: 2, Loss: [0.32906885]\n"
     ]
    },
    {
     "name": "stderr",
     "output_type": "stream",
     "text": [
      "                                                                                \r"
     ]
    },
    {
     "name": "stdout",
     "output_type": "stream",
     "text": [
      "Iteration: 3, Loss: [0.28693942]\n"
     ]
    },
    {
     "name": "stderr",
     "output_type": "stream",
     "text": [
      "                                                                                \r"
     ]
    },
    {
     "name": "stdout",
     "output_type": "stream",
     "text": [
      "Iteration: 4, Loss: [0.2616604]\n"
     ]
    },
    {
     "name": "stderr",
     "output_type": "stream",
     "text": [
      "                                                                                \r"
     ]
    },
    {
     "name": "stdout",
     "output_type": "stream",
     "text": [
      "Iteration: 5, Loss: [0.24482078]\n"
     ]
    },
    {
     "name": "stderr",
     "output_type": "stream",
     "text": [
      "                                                                                \r"
     ]
    },
    {
     "name": "stdout",
     "output_type": "stream",
     "text": [
      "Iteration: 6, Loss: [0.23277175]\n"
     ]
    },
    {
     "name": "stderr",
     "output_type": "stream",
     "text": [
      "                                                                                \r"
     ]
    },
    {
     "name": "stdout",
     "output_type": "stream",
     "text": [
      "Iteration: 7, Loss: [0.22370025]\n"
     ]
    },
    {
     "name": "stderr",
     "output_type": "stream",
     "text": [
      "                                                                                \r"
     ]
    },
    {
     "name": "stdout",
     "output_type": "stream",
     "text": [
      "Iteration: 8, Loss: [0.2166074]\n"
     ]
    },
    {
     "name": "stderr",
     "output_type": "stream",
     "text": [
      "                                                                                \r"
     ]
    },
    {
     "name": "stdout",
     "output_type": "stream",
     "text": [
      "Iteration: 9, Loss: [0.21089804]\n"
     ]
    },
    {
     "name": "stderr",
     "output_type": "stream",
     "text": [
      "[Stage 234:==================================================>      (8 + 1) / 9]\r"
     ]
    },
    {
     "name": "stdout",
     "output_type": "stream",
     "text": [
      "Final accuracy: 0.929422\n",
      "326.60360765457153\n"
     ]
    },
    {
     "name": "stderr",
     "output_type": "stream",
     "text": [
      "                                                                                \r"
     ]
    }
   ],
   "source": [
    "\n",
    "n = readFile('/home/parallels/Desktop/spark/OGVD-project-MAADM-UPM/data/botnet_reduced_10k_l.csv')\n",
    "start_time = time.time()\n",
    "normalizado = normalize(n)\n",
    "# normalizado.cache()\n",
    "# _ = normalizado.count()\n",
    "w,b=train_cached_grad(normalizado,10,1.5,0)\n",
    "\n",
    "acc=accuracy(w,b,normalizado)\n",
    "print(f\"Final accuracy: {acc}\")\n",
    "end_time = time.time()\n",
    "cached_gradients = end_time - start_time\n",
    "print(cached_gradients)"
   ]
  },
  {
   "cell_type": "markdown",
   "metadata": {},
   "source": [
    "### Cachemos gradients y normalizado"
   ]
  },
  {
   "cell_type": "code",
   "execution_count": null,
   "metadata": {},
   "outputs": [
    {
     "name": "stderr",
     "output_type": "stream",
     "text": [
      "                                                                                \r"
     ]
    },
    {
     "name": "stdout",
     "output_type": "stream",
     "text": [
      "Iteration: 0, Loss: [0.52522284]\n"
     ]
    },
    {
     "name": "stderr",
     "output_type": "stream",
     "text": [
      "                                                                                \r"
     ]
    },
    {
     "name": "stdout",
     "output_type": "stream",
     "text": [
      "Iteration: 1, Loss: [0.37084194]\n"
     ]
    },
    {
     "name": "stderr",
     "output_type": "stream",
     "text": [
      "                                                                                \r"
     ]
    },
    {
     "name": "stdout",
     "output_type": "stream",
     "text": [
      "Iteration: 2, Loss: [0.3059474]\n"
     ]
    },
    {
     "name": "stderr",
     "output_type": "stream",
     "text": [
      "                                                                                \r"
     ]
    },
    {
     "name": "stdout",
     "output_type": "stream",
     "text": [
      "Iteration: 3, Loss: [0.27198092]\n"
     ]
    },
    {
     "name": "stderr",
     "output_type": "stream",
     "text": [
      "                                                                                \r"
     ]
    },
    {
     "name": "stdout",
     "output_type": "stream",
     "text": [
      "Iteration: 4, Loss: [0.25125138]\n"
     ]
    },
    {
     "name": "stderr",
     "output_type": "stream",
     "text": [
      "                                                                                \r"
     ]
    },
    {
     "name": "stdout",
     "output_type": "stream",
     "text": [
      "Iteration: 5, Loss: [0.23722173]\n"
     ]
    },
    {
     "name": "stderr",
     "output_type": "stream",
     "text": [
      "                                                                                \r"
     ]
    },
    {
     "name": "stdout",
     "output_type": "stream",
     "text": [
      "Iteration: 6, Loss: [0.22703297]\n"
     ]
    },
    {
     "name": "stderr",
     "output_type": "stream",
     "text": [
      "                                                                                \r"
     ]
    },
    {
     "name": "stdout",
     "output_type": "stream",
     "text": [
      "Iteration: 7, Loss: [0.21925441]\n"
     ]
    },
    {
     "name": "stderr",
     "output_type": "stream",
     "text": [
      "                                                                                \r"
     ]
    },
    {
     "name": "stdout",
     "output_type": "stream",
     "text": [
      "Iteration: 8, Loss: [0.21309305]\n"
     ]
    },
    {
     "name": "stderr",
     "output_type": "stream",
     "text": [
      "                                                                                \r"
     ]
    },
    {
     "name": "stdout",
     "output_type": "stream",
     "text": [
      "Iteration: 9, Loss: [0.20807364]\n"
     ]
    },
    {
     "name": "stderr",
     "output_type": "stream",
     "text": [
      "[Stage 300:=========================>                               (4 + 4) / 9]\r"
     ]
    },
    {
     "name": "stdout",
     "output_type": "stream",
     "text": [
      "Final accuracy: 0.930166\n",
      "168.1287760734558\n"
     ]
    },
    {
     "name": "stderr",
     "output_type": "stream",
     "text": [
      "                                                                                \r"
     ]
    }
   ],
   "source": [
    "\n",
    "n = readFile('/home/parallels/Desktop/spark/OGVD-project-MAADM-UPM/data/botnet_reduced_10k_l.csv')\n",
    "start_time = time.time()\n",
    "normalizado = normalize(n)\n",
    "normalizado.cache()\n",
    "_ = normalizado.count()\n",
    "w,b=train_cached_grad(normalizado,10,1.5,0)\n",
    "\n",
    "acc=accuracy(w,b,normalizado)\n",
    "print(f\"Final accuracy: {acc}\")\n",
    "end_time = time.time()\n",
    "cached_gradients_normalizado = end_time - start_time\n",
    "print(cached_gradients_normalizado)"
   ]
  },
  {
   "cell_type": "markdown",
   "metadata": {},
   "source": [
    "### Cacheamos el predict en el train"
   ]
  },
  {
   "cell_type": "code",
   "execution_count": null,
   "metadata": {},
   "outputs": [],
   "source": [
    "def train_cached_pred(RDD_Xy, iterations, learning_rate, lambda_reg):\n",
    "    w = np.random.rand(11)\n",
    "    b = np.random.rand(1)\n",
    "    \n",
    "    for iteration in range(iterations):\n",
    "        predictions_targets_inputs = RDD_Xy.map(lambda x: (predict_train(w, b, x[0]), x[1], x[0]))\n",
    "        predictions_targets_inputs.cache()\n",
    "        count = predictions_targets_inputs.count()\n",
    "        \n",
    "        gradients = predictions_targets_inputs.map(lambda x: ((x[0] - x[1]) * np.array(x[2]), x[0] - x[1]))\n",
    "        # gradients.cache()\n",
    "        # _ = gradients.count()\n",
    "        gradient_w = gradients.map(lambda x: x[0]).reduce(lambda x, y: x + y) / count + (lambda_reg * w) / len(w)\n",
    "        gradient_b = gradients.map(lambda x: x[1]).reduce(lambda x, y: x + y) / count\n",
    "        \n",
    "        w -= learning_rate * gradient_w\n",
    "        b -= learning_rate * gradient_b\n",
    "        \n",
    "        loss = calculate_loss_function(predictions_targets_inputs, lambda_reg, w)\n",
    "        print(f\"Iteration: {iteration}, Loss: {loss}\")\n",
    "    \n",
    "    return w, b"
   ]
  },
  {
   "cell_type": "code",
   "execution_count": null,
   "metadata": {},
   "outputs": [
    {
     "name": "stderr",
     "output_type": "stream",
     "text": [
      "                                                                                \r"
     ]
    },
    {
     "name": "stdout",
     "output_type": "stream",
     "text": [
      "Iteration: 0, Loss: [1.56045633]\n"
     ]
    },
    {
     "name": "stderr",
     "output_type": "stream",
     "text": [
      "                                                                                \r"
     ]
    },
    {
     "name": "stdout",
     "output_type": "stream",
     "text": [
      "Iteration: 1, Loss: [0.879741]\n"
     ]
    },
    {
     "name": "stderr",
     "output_type": "stream",
     "text": [
      "                                                                                \r"
     ]
    },
    {
     "name": "stdout",
     "output_type": "stream",
     "text": [
      "Iteration: 2, Loss: [0.57067817]\n"
     ]
    },
    {
     "name": "stderr",
     "output_type": "stream",
     "text": [
      "                                                                                \r"
     ]
    },
    {
     "name": "stdout",
     "output_type": "stream",
     "text": [
      "Iteration: 3, Loss: [0.42073854]\n"
     ]
    },
    {
     "name": "stderr",
     "output_type": "stream",
     "text": [
      "                                                                                \r"
     ]
    },
    {
     "name": "stdout",
     "output_type": "stream",
     "text": [
      "Iteration: 4, Loss: [0.34155126]\n"
     ]
    },
    {
     "name": "stderr",
     "output_type": "stream",
     "text": [
      "                                                                                \r"
     ]
    },
    {
     "name": "stdout",
     "output_type": "stream",
     "text": [
      "Iteration: 5, Loss: [0.29651429]\n"
     ]
    },
    {
     "name": "stderr",
     "output_type": "stream",
     "text": [
      "                                                                                \r"
     ]
    },
    {
     "name": "stdout",
     "output_type": "stream",
     "text": [
      "Iteration: 6, Loss: [0.26865552]\n"
     ]
    },
    {
     "name": "stderr",
     "output_type": "stream",
     "text": [
      "                                                                                \r"
     ]
    },
    {
     "name": "stdout",
     "output_type": "stream",
     "text": [
      "Iteration: 7, Loss: [0.25004285]\n"
     ]
    },
    {
     "name": "stderr",
     "output_type": "stream",
     "text": [
      "                                                                                \r"
     ]
    },
    {
     "name": "stdout",
     "output_type": "stream",
     "text": [
      "Iteration: 8, Loss: [0.23680976]\n"
     ]
    },
    {
     "name": "stderr",
     "output_type": "stream",
     "text": [
      "                                                                                \r"
     ]
    },
    {
     "name": "stdout",
     "output_type": "stream",
     "text": [
      "Iteration: 9, Loss: [0.22693319]\n"
     ]
    },
    {
     "name": "stderr",
     "output_type": "stream",
     "text": [
      "[Stage 353:===============================>                         (5 + 4) / 9]\r"
     ]
    },
    {
     "name": "stdout",
     "output_type": "stream",
     "text": [
      "Final accuracy: 0.924384\n",
      "133.5286865234375\n"
     ]
    },
    {
     "name": "stderr",
     "output_type": "stream",
     "text": [
      "                                                                                \r"
     ]
    }
   ],
   "source": [
    "\n",
    "n = readFile('/home/parallels/Desktop/spark/OGVD-project-MAADM-UPM/data/botnet_reduced_10k_l.csv')\n",
    "start_time = time.time()\n",
    "# normalizado = normalize(n)\n",
    "# normalizado.cache()\n",
    "_ = normalizado.count()\n",
    "w,b=train_cached_pred(normalizado,10,1.5,0)\n",
    "\n",
    "acc=accuracy(w,b,normalizado)\n",
    "print(f\"Final accuracy: {acc}\")\n",
    "end_time = time.time()\n",
    "cached_predict = end_time - start_time\n",
    "print(cached_predict)"
   ]
  },
  {
   "cell_type": "markdown",
   "metadata": {},
   "source": [
    "### Chacheamos predict y grads"
   ]
  },
  {
   "cell_type": "code",
   "execution_count": null,
   "metadata": {},
   "outputs": [],
   "source": [
    "def train_cached(RDD_Xy, iterations, learning_rate, lambda_reg):\n",
    "    w = np.random.rand(11)\n",
    "    b = np.random.rand(1)\n",
    "    \n",
    "    for iteration in range(iterations):\n",
    "        predictions_targets_inputs = RDD_Xy.map(lambda x: (predict_train(w, b, x[0]), x[1], x[0]))\n",
    "        predictions_targets_inputs.cache()\n",
    "        count = predictions_targets_inputs.count()\n",
    "        \n",
    "        gradients = predictions_targets_inputs.map(lambda x: ((x[0] - x[1]) * np.array(x[2]), x[0] - x[1]))\n",
    "        gradients.cache()\n",
    "        _ = gradients.count()\n",
    "        gradient_w = gradients.map(lambda x: x[0]).reduce(lambda x, y: x + y) / count + (lambda_reg * w) / len(w)\n",
    "        gradient_b = gradients.map(lambda x: x[1]).reduce(lambda x, y: x + y) / count\n",
    "        \n",
    "        w -= learning_rate * gradient_w\n",
    "        b -= learning_rate * gradient_b\n",
    "        \n",
    "        loss = calculate_loss_function(predictions_targets_inputs, lambda_reg, w)\n",
    "        print(f\"Iteration: {iteration}, Loss: {loss}\")\n",
    "    \n",
    "    return w, b"
   ]
  },
  {
   "cell_type": "code",
   "execution_count": null,
   "metadata": {},
   "outputs": [
    {
     "name": "stderr",
     "output_type": "stream",
     "text": [
      "                                                                                \r"
     ]
    },
    {
     "name": "stdout",
     "output_type": "stream",
     "text": [
      "Iteration: 0, Loss: [1.26240287]\n"
     ]
    },
    {
     "name": "stderr",
     "output_type": "stream",
     "text": [
      "                                                                                \r"
     ]
    },
    {
     "name": "stdout",
     "output_type": "stream",
     "text": [
      "Iteration: 1, Loss: [0.65870928]\n"
     ]
    },
    {
     "name": "stderr",
     "output_type": "stream",
     "text": [
      "                                                                                \r"
     ]
    },
    {
     "name": "stdout",
     "output_type": "stream",
     "text": [
      "Iteration: 2, Loss: [0.42941584]\n"
     ]
    },
    {
     "name": "stderr",
     "output_type": "stream",
     "text": [
      "                                                                                \r"
     ]
    },
    {
     "name": "stdout",
     "output_type": "stream",
     "text": [
      "Iteration: 3, Loss: [0.33445842]\n"
     ]
    },
    {
     "name": "stderr",
     "output_type": "stream",
     "text": [
      "                                                                                \r"
     ]
    },
    {
     "name": "stdout",
     "output_type": "stream",
     "text": [
      "Iteration: 4, Loss: [0.28784551]\n"
     ]
    },
    {
     "name": "stderr",
     "output_type": "stream",
     "text": [
      "                                                                                \r"
     ]
    },
    {
     "name": "stdout",
     "output_type": "stream",
     "text": [
      "Iteration: 5, Loss: [0.26104966]\n"
     ]
    },
    {
     "name": "stderr",
     "output_type": "stream",
     "text": [
      "                                                                                \r"
     ]
    },
    {
     "name": "stdout",
     "output_type": "stream",
     "text": [
      "Iteration: 6, Loss: [0.24373674]\n"
     ]
    },
    {
     "name": "stderr",
     "output_type": "stream",
     "text": [
      "                                                                                \r"
     ]
    },
    {
     "name": "stdout",
     "output_type": "stream",
     "text": [
      "Iteration: 7, Loss: [0.23160209]\n"
     ]
    },
    {
     "name": "stderr",
     "output_type": "stream",
     "text": [
      "                                                                                \r"
     ]
    },
    {
     "name": "stdout",
     "output_type": "stream",
     "text": [
      "Iteration: 8, Loss: [0.22259112]\n"
     ]
    },
    {
     "name": "stderr",
     "output_type": "stream",
     "text": [
      "                                                                                \r"
     ]
    },
    {
     "name": "stdout",
     "output_type": "stream",
     "text": [
      "Iteration: 9, Loss: [0.21560947]\n"
     ]
    },
    {
     "name": "stderr",
     "output_type": "stream",
     "text": [
      "[Stage 416:============================================>            (7 + 2) / 9]\r"
     ]
    },
    {
     "name": "stdout",
     "output_type": "stream",
     "text": [
      "Final accuracy: 0.928932\n",
      "159.42531728744507\n"
     ]
    },
    {
     "name": "stderr",
     "output_type": "stream",
     "text": [
      "                                                                                \r"
     ]
    }
   ],
   "source": [
    "\n",
    "n = readFile('/home/parallels/Desktop/spark/OGVD-project-MAADM-UPM/data/botnet_reduced_10k_l.csv')\n",
    "start_time = time.time()\n",
    "# normalizado = normalize(n)\n",
    "# normalizado.cache()\n",
    "_ = normalizado.count()\n",
    "w,b=train_cached(normalizado,10,1.5,0)\n",
    "\n",
    "acc=accuracy(w,b,normalizado)\n",
    "print(f\"Final accuracy: {acc}\")\n",
    "end_time = time.time()\n",
    "cached_predict_grad = end_time - start_time\n",
    "print(cached_predict_grad)"
   ]
  },
  {
   "cell_type": "markdown",
   "metadata": {},
   "source": [
    "### Cacheamos predict y normalizado"
   ]
  },
  {
   "cell_type": "code",
   "execution_count": null,
   "metadata": {},
   "outputs": [
    {
     "name": "stderr",
     "output_type": "stream",
     "text": [
      "                                                                                \r"
     ]
    },
    {
     "name": "stdout",
     "output_type": "stream",
     "text": [
      "Iteration: 0, Loss: [1.32535647]\n"
     ]
    },
    {
     "name": "stderr",
     "output_type": "stream",
     "text": [
      "                                                                                \r"
     ]
    },
    {
     "name": "stdout",
     "output_type": "stream",
     "text": [
      "Iteration: 1, Loss: [0.63905099]\n"
     ]
    },
    {
     "name": "stderr",
     "output_type": "stream",
     "text": [
      "                                                                                \r"
     ]
    },
    {
     "name": "stdout",
     "output_type": "stream",
     "text": [
      "Iteration: 2, Loss: [0.40392771]\n"
     ]
    },
    {
     "name": "stderr",
     "output_type": "stream",
     "text": [
      "                                                                                \r"
     ]
    },
    {
     "name": "stdout",
     "output_type": "stream",
     "text": [
      "Iteration: 3, Loss: [0.32432161]\n"
     ]
    },
    {
     "name": "stderr",
     "output_type": "stream",
     "text": [
      "                                                                                \r"
     ]
    },
    {
     "name": "stdout",
     "output_type": "stream",
     "text": [
      "Iteration: 4, Loss: [0.28680604]\n"
     ]
    },
    {
     "name": "stderr",
     "output_type": "stream",
     "text": [
      "                                                                                \r"
     ]
    },
    {
     "name": "stdout",
     "output_type": "stream",
     "text": [
      "Iteration: 5, Loss: [0.26409271]\n"
     ]
    },
    {
     "name": "stderr",
     "output_type": "stream",
     "text": [
      "                                                                                \r"
     ]
    },
    {
     "name": "stdout",
     "output_type": "stream",
     "text": [
      "Iteration: 6, Loss: [0.24848618]\n"
     ]
    },
    {
     "name": "stderr",
     "output_type": "stream",
     "text": [
      "                                                                                \r"
     ]
    },
    {
     "name": "stdout",
     "output_type": "stream",
     "text": [
      "Iteration: 7, Loss: [0.23695571]\n"
     ]
    },
    {
     "name": "stderr",
     "output_type": "stream",
     "text": [
      "                                                                                \r"
     ]
    },
    {
     "name": "stdout",
     "output_type": "stream",
     "text": [
      "Iteration: 8, Loss: [0.22802624]\n"
     ]
    },
    {
     "name": "stderr",
     "output_type": "stream",
     "text": [
      "                                                                                \r"
     ]
    },
    {
     "name": "stdout",
     "output_type": "stream",
     "text": [
      "Iteration: 9, Loss: [0.22087726]\n"
     ]
    },
    {
     "name": "stderr",
     "output_type": "stream",
     "text": [
      "[Stage 528:==================================================>      (8 + 1) / 9]\r"
     ]
    },
    {
     "name": "stdout",
     "output_type": "stream",
     "text": [
      "Final accuracy: 0.929148\n",
      "143.0418345928192\n"
     ]
    },
    {
     "name": "stderr",
     "output_type": "stream",
     "text": [
      "                                                                                \r"
     ]
    }
   ],
   "source": [
    "\n",
    "n = readFile('/home/parallels/Desktop/spark/OGVD-project-MAADM-UPM/data/botnet_reduced_10k_l.csv')\n",
    "start_time = time.time()\n",
    "normalizado = normalize(n)\n",
    "normalizado.cache()\n",
    "_ = normalizado.count()\n",
    "w,b=train_cached_pred(normalizado,10,1.5,0)\n",
    "\n",
    "acc=accuracy(w,b,normalizado)\n",
    "print(f\"Final accuracy: {acc}\")\n",
    "end_time = time.time()\n",
    "cached_predict_norm = end_time - start_time\n",
    "print(cached_predict_norm)"
   ]
  },
  {
   "cell_type": "markdown",
   "metadata": {},
   "source": [
    "### Combinamos los tres"
   ]
  },
  {
   "cell_type": "code",
   "execution_count": null,
   "metadata": {},
   "outputs": [
    {
     "name": "stderr",
     "output_type": "stream",
     "text": [
      "                                                                                \r"
     ]
    },
    {
     "name": "stdout",
     "output_type": "stream",
     "text": [
      "Iteration: 0, Loss: [1.05443327]\n"
     ]
    },
    {
     "name": "stderr",
     "output_type": "stream",
     "text": [
      "                                                                                \r"
     ]
    },
    {
     "name": "stdout",
     "output_type": "stream",
     "text": [
      "Iteration: 1, Loss: [0.50993538]\n"
     ]
    },
    {
     "name": "stderr",
     "output_type": "stream",
     "text": [
      "                                                                                \r"
     ]
    },
    {
     "name": "stdout",
     "output_type": "stream",
     "text": [
      "Iteration: 2, Loss: [0.36056097]\n"
     ]
    },
    {
     "name": "stderr",
     "output_type": "stream",
     "text": [
      "                                                                                \r"
     ]
    },
    {
     "name": "stdout",
     "output_type": "stream",
     "text": [
      "Iteration: 3, Loss: [0.30368172]\n"
     ]
    },
    {
     "name": "stderr",
     "output_type": "stream",
     "text": [
      "                                                                                \r"
     ]
    },
    {
     "name": "stdout",
     "output_type": "stream",
     "text": [
      "Iteration: 4, Loss: [0.27337205]\n"
     ]
    },
    {
     "name": "stderr",
     "output_type": "stream",
     "text": [
      "                                                                                \r"
     ]
    },
    {
     "name": "stdout",
     "output_type": "stream",
     "text": [
      "Iteration: 5, Loss: [0.25417918]\n"
     ]
    },
    {
     "name": "stderr",
     "output_type": "stream",
     "text": [
      "                                                                                \r"
     ]
    },
    {
     "name": "stdout",
     "output_type": "stream",
     "text": [
      "Iteration: 6, Loss: [0.24075037]\n"
     ]
    },
    {
     "name": "stderr",
     "output_type": "stream",
     "text": [
      "                                                                                \r"
     ]
    },
    {
     "name": "stdout",
     "output_type": "stream",
     "text": [
      "Iteration: 7, Loss: [0.23073143]\n"
     ]
    },
    {
     "name": "stderr",
     "output_type": "stream",
     "text": [
      "                                                                                \r"
     ]
    },
    {
     "name": "stdout",
     "output_type": "stream",
     "text": [
      "Iteration: 8, Loss: [0.22291652]\n"
     ]
    },
    {
     "name": "stderr",
     "output_type": "stream",
     "text": [
      "                                                                                \r"
     ]
    },
    {
     "name": "stdout",
     "output_type": "stream",
     "text": [
      "Iteration: 9, Loss: [0.21661954]\n"
     ]
    },
    {
     "name": "stderr",
     "output_type": "stream",
     "text": [
      "[Stage 472:=========================>                               (4 + 4) / 9]\r"
     ]
    },
    {
     "name": "stdout",
     "output_type": "stream",
     "text": [
      "Final accuracy: 0.930109\n",
      "139.8809049129486\n"
     ]
    },
    {
     "name": "stderr",
     "output_type": "stream",
     "text": [
      "                                                                                \r"
     ]
    }
   ],
   "source": [
    "\n",
    "n = readFile('/home/parallels/Desktop/spark/OGVD-project-MAADM-UPM/data/botnet_reduced_10k_l.csv')\n",
    "start_time = time.time()\n",
    "normalizado = normalize(n)\n",
    "normalizado.cache()\n",
    "_ = normalizado.count()\n",
    "w,b=train_cached_pred(normalizado,10,1.5,0)\n",
    "\n",
    "acc=accuracy(w,b,normalizado)\n",
    "print(f\"Final accuracy: {acc}\")\n",
    "end_time = time.time()\n",
    "cached_all = end_time - start_time\n",
    "print(cached_all)"
   ]
  },
  {
   "cell_type": "markdown",
   "metadata": {},
   "source": [
    "### Plot"
   ]
  },
  {
   "cell_type": "code",
   "execution_count": null,
   "metadata": {},
   "outputs": [
    {
     "name": "stdout",
     "output_type": "stream",
     "text": [
      "[336.11903166770935, 138.7232768535614, 326.60360765457153, 168.1287760734558, 133.5286865234375, 159.42531728744507, 143.0418345928192, 139.8809049129486]\n"
     ]
    },
    {
     "data": {
      "image/png": "[encoded data removed]",
      "text/plain": [
       "<Figure size 1200x600 with 1 Axes>"
      ]
     },
     "metadata": {},
     "output_type": "display_data"
    }
   ],
   "source": [
    "tecnicas_cache = [\"No cache\", \"Norm\", \"grad\", \"Norm+grad\", \"Predict\", 'Predict+grad', 'Norm+predict','Norm+predict+grad']\n",
    "tiempos_cache = [normal_time, cached_normalizado, cached_gradients, cached_gradients_normalizado, cached_predict, cached_predict_grad, cached_predict_norm, cached_all]  # Ejemplo de tiempos en segundos\n",
    "print(tiempos_cache)\n",
    "plt.figure(figsize=(12, 6))\n",
    "plt.scatter(tecnicas_cache, tiempos_cache, color='r', label='Tiempo de ejecución')\n",
    "plt.xlabel(\"Técnica de Caché\")\n",
    "plt.ylabel(\"Tiempo de Ejecución (s)\")\n",
    "plt.title(\"Tiempo de Ejecución por Técnica de Caché\")\n",
    "plt.legend()\n",
    "plt.grid()\n",
    "plt.savefig(f\"results/Ej_3a_cached_10k.png\") \n",
    "\n",
    "plt.show()\n"
   ]
  },
  {
   "cell_type": "markdown",
   "metadata": {},
   "source": [
    "## Memoria Parte 4"
   ]
  },
  {
   "cell_type": "code",
   "execution_count": null,
   "metadata": {},
   "outputs": [
    {
     "name": "stderr",
     "output_type": "stream",
     "text": [
      "Partitions:   0%|          | 0/8 [00:00<?, ?it/s]"
     ]
    },
    {
     "name": "stdout",
     "output_type": "stream",
     "text": [
      "1\n"
     ]
    },
    {
     "name": "stderr",
     "output_type": "stream",
     "text": [
      "Partitions:  12%|█▎        | 1/8 [07:11<50:19, 431.33s/it]                      "
     ]
    },
    {
     "name": "stdout",
     "output_type": "stream",
     "text": [
      "2\n"
     ]
    },
    {
     "name": "stderr",
     "output_type": "stream",
     "text": [
      "Partitions:  25%|██▌       | 2/8 [10:53<30:50, 308.48s/it]                      "
     ]
    },
    {
     "name": "stdout",
     "output_type": "stream",
     "text": [
      "3\n"
     ]
    },
    {
     "name": "stderr",
     "output_type": "stream",
     "text": [
      "Partitions:  38%|███▊      | 3/8 [13:42<20:24, 244.82s/it]                      "
     ]
    },
    {
     "name": "stdout",
     "output_type": "stream",
     "text": [
      "4\n"
     ]
    },
    {
     "name": "stderr",
     "output_type": "stream",
     "text": [
      "Partitions:  50%|█████     | 4/8 [16:07<13:41, 205.45s/it]                      "
     ]
    },
    {
     "name": "stdout",
     "output_type": "stream",
     "text": [
      "5\n"
     ]
    },
    {
     "name": "stderr",
     "output_type": "stream",
     "text": [
      "Partitions:  62%|██████▎   | 5/8 [19:23<10:06, 202.01s/it]                      "
     ]
    },
    {
     "name": "stdout",
     "output_type": "stream",
     "text": [
      "6\n"
     ]
    },
    {
     "name": "stderr",
     "output_type": "stream",
     "text": [
      "Partitions:  75%|███████▌  | 6/8 [22:16<06:24, 192.00s/it]                      "
     ]
    },
    {
     "name": "stdout",
     "output_type": "stream",
     "text": [
      "7\n"
     ]
    },
    {
     "name": "stderr",
     "output_type": "stream",
     "text": [
      "Partitions:  88%|████████▊ | 7/8 [24:48<02:58, 178.97s/it]                      "
     ]
    },
    {
     "name": "stdout",
     "output_type": "stream",
     "text": [
      "8\n"
     ]
    },
    {
     "name": "stderr",
     "output_type": "stream",
     "text": [
      "Partitions: 100%|██████████| 8/8 [27:12<00:00, 204.08s/it]                      \n"
     ]
    },
    {
     "data": {
      "image/png": "[encoded data removed]",
      "text/plain": [
       "<Figure size 800x600 with 1 Axes>"
      ]
     },
     "metadata": {},
     "output_type": "display_data"
    }
   ],
   "source": [
    "partitions=range(1,9)\n",
    "\n",
    "\n",
    "try:\n",
    "    sc.stop()\n",
    "except:\n",
    "    pass\n",
    "sc = SparkContext(f\"local[{4}]\", \"Name of the Program\")\n",
    "totals=[]\n",
    "plt.figure(figsize=(8, 6))\n",
    "for partition in tqdm(partitions, desc=f\"Partitions\"):\n",
    "    print(partition)\n",
    "    n = readFile('/home/parallels/Desktop/spark/OGVD-project-MAADM-UPM/data/botnet_reduced_10k_l.csv')   \n",
    "    normalizado = normalize(n)\n",
    "    normalizado=normalizado.repartition(partition)\n",
    "\n",
    "    inicio=time.time()\n",
    "    w,b,costs=ej1_train(normalizado,10,1.5,0)\n",
    "    fin=time.time()\n",
    "    totals.append(fin-inicio)\n",
    "\n",
    "plt.plot(range(1, len(totals) + 1), totals, marker='o', linestyle='-')\n",
    "plt.xlabel(\"# Partitions\")\n",
    "plt.ylabel(\"Time (s)\")\n",
    "plt.title(\"Partitions vs Time\")\n",
    "plt.grid()\n",
    "plt.legend()\n",
    "plt.savefig(f\"results/Ej_4_time_partitions_10k.png\") \n",
    "plt.show()"
   ]
  },
  {
   "cell_type": "code",
   "execution_count": null,
   "metadata": {},
   "outputs": [],
   "source": []
  }
 ],
 "metadata": {
  "kernelspec": {
   "display_name": "Python 3",
   "language": "python",
   "name": "python3"
  },
  "language_info": {
   "codemirror_mode": {
    "name": "ipython",
    "version": 3
   },
   "file_extension": ".py",
   "mimetype": "text/x-python",
   "name": "python",
   "nbconvert_exporter": "python",
   "pygments_lexer": "ipython3",
   "version": "3.10.12"
  }
 },
 "nbformat": 4,
 "nbformat_minor": 2
}
