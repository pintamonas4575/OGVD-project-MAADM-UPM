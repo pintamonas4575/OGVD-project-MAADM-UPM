{
 "cells": [
  {
   "cell_type": "code",
   "execution_count": 1,
   "id": "2f72557a-2f6f-477b-9e95-c137499f4fa1",
   "metadata": {},
   "outputs": [],
   "source": [
    "from kafka import KafkaProducer\n",
    "import json\n",
    "import time\n",
    "import random\n",
    "from math import cos, pi"
   ]
  },
  {
   "cell_type": "code",
   "execution_count": 2,
   "id": "ef78881f-cd93-42a9-86e6-66ff11815015",
   "metadata": {},
   "outputs": [],
   "source": [
    "def generate_sensor_data():\n",
    "    timestamp = int(time.time())\n",
    "\n",
    "    # Simulate IoT sensor data for water quality metrics with realistic patterns\n",
    "    water_temperature = random.uniform(1, 3) + round(20 + 5 * (1 + 0.5 * (1 + cos((timestamp % 86400) / 86400 * 2 * pi))), 2)\n",
    "    ph_level = random.uniform(0, 1) + round(7.5 + 0.2 * (1 + cos((timestamp % 86400) / 86400 * 2 * pi)), 2)\n",
    "    turbidity = round(random.uniform(5, 50), 2)  # Turbidity in NTU (Nephelometric Turbidity Units)\n",
    "    dissolved_oxygen = round(random.uniform(5, 12), 2)  # Dissolved Oxygen in mg/L\n",
    "\n",
    "    return {\n",
    "        \"timestamp\": timestamp,\n",
    "        \"water_temperature\": water_temperature,\n",
    "        \"ph_level\": ph_level,\n",
    "        \"turbidity\": turbidity,\n",
    "        \"dissolved_oxygen\": dissolved_oxygen\n",
    "    }"
   ]
  },
  {
   "cell_type": "code",
   "execution_count": 3,
   "id": "7ad3ddc4-b131-4141-8600-5d0a381c1afc",
   "metadata": {},
   "outputs": [
    {
     "name": "stdout",
     "output_type": "stream",
     "text": [
      "Producing messages to Kafka topic 'water_quality'...\n",
      "Sent: {'timestamp': 1741103557, 'water_temperature': 28.32738454857695, 'ph_level': 8.581089504160689, 'turbidity': 12.38, 'dissolved_oxygen': 9.54}\n",
      "Sent: {'timestamp': 1741103558, 'water_temperature': 27.313249170269337, 'ph_level': 7.862899585093348, 'turbidity': 33.27, 'dissolved_oxygen': 10.29}\n",
      "Sent: {'timestamp': 1741103559, 'water_temperature': 28.318063624826078, 'ph_level': 7.648614197993808, 'turbidity': 25.73, 'dissolved_oxygen': 8.51}\n",
      "Sent: {'timestamp': 1741103560, 'water_temperature': 28.180335541843412, 'ph_level': 8.017228109309022, 'turbidity': 36.18, 'dissolved_oxygen': 9.39}\n",
      "Sent: {'timestamp': 1741103561, 'water_temperature': 29.114648795453405, 'ph_level': 8.502419076597537, 'turbidity': 22.33, 'dissolved_oxygen': 11.96}\n",
      "Sent: {'timestamp': 1741103562, 'water_temperature': 28.645307778261618, 'ph_level': 8.3751854737204, 'turbidity': 32.67, 'dissolved_oxygen': 9.54}\n",
      "Sent: {'timestamp': 1741103563, 'water_temperature': 28.49459532555525, 'ph_level': 8.025210034812645, 'turbidity': 11.34, 'dissolved_oxygen': 7.78}\n",
      "Sent: {'timestamp': 1741103564, 'water_temperature': 27.63600633987204, 'ph_level': 8.415459554145915, 'turbidity': 20.46, 'dissolved_oxygen': 7.55}\n",
      "Sent: {'timestamp': 1741103565, 'water_temperature': 28.507685878253902, 'ph_level': 8.2762785755026, 'turbidity': 28.62, 'dissolved_oxygen': 5.23}\n",
      "Sent: {'timestamp': 1741103566, 'water_temperature': 27.678568993169804, 'ph_level': 7.9936444207705, 'turbidity': 44.47, 'dissolved_oxygen': 6.9}\n",
      "Sent: {'timestamp': 1741103567, 'water_temperature': 27.92850155776839, 'ph_level': 7.6646530827922295, 'turbidity': 11.11, 'dissolved_oxygen': 10.27}\n",
      "Sent: {'timestamp': 1741103568, 'water_temperature': 29.154910779588246, 'ph_level': 8.485690482621306, 'turbidity': 43.75, 'dissolved_oxygen': 8.24}\n",
      "Sent: {'timestamp': 1741103569, 'water_temperature': 28.966544336488635, 'ph_level': 7.6750608849416855, 'turbidity': 9.59, 'dissolved_oxygen': 8.96}\n",
      "Sent: {'timestamp': 1741103570, 'water_temperature': 28.804344796861216, 'ph_level': 8.294295689740332, 'turbidity': 45.75, 'dissolved_oxygen': 11.65}\n",
      "Sent: {'timestamp': 1741103571, 'water_temperature': 28.86800455431324, 'ph_level': 8.274918917534526, 'turbidity': 21.72, 'dissolved_oxygen': 11.77}\n",
      "Sent: {'timestamp': 1741103572, 'water_temperature': 27.79151450769831, 'ph_level': 8.35257626469327, 'turbidity': 6.99, 'dissolved_oxygen': 6.79}\n",
      "Sent: {'timestamp': 1741103573, 'water_temperature': 27.78671414045446, 'ph_level': 8.560977612781537, 'turbidity': 44.44, 'dissolved_oxygen': 5.98}\n",
      "Sent: {'timestamp': 1741103574, 'water_temperature': 28.85708980796942, 'ph_level': 8.296246574910787, 'turbidity': 44.85, 'dissolved_oxygen': 5.96}\n",
      "Sent: {'timestamp': 1741103575, 'water_temperature': 27.494896200233462, 'ph_level': 7.65312582464478, 'turbidity': 35.06, 'dissolved_oxygen': 7.78}\n",
      "Sent: {'timestamp': 1741103576, 'water_temperature': 28.02849678578077, 'ph_level': 8.444253515666233, 'turbidity': 42.56, 'dissolved_oxygen': 11.75}\n",
      "Sent: {'timestamp': 1741103577, 'water_temperature': 27.50790618616731, 'ph_level': 8.043707828374288, 'turbidity': 14.34, 'dissolved_oxygen': 7.53}\n",
      "Sent: {'timestamp': 1741103578, 'water_temperature': 28.272347393740617, 'ph_level': 8.068046292650537, 'turbidity': 38.51, 'dissolved_oxygen': 9.97}\n",
      "Sent: {'timestamp': 1741103579, 'water_temperature': 27.231366600619047, 'ph_level': 7.598445314359446, 'turbidity': 7.79, 'dissolved_oxygen': 5.15}\n",
      "Sent: {'timestamp': 1741103580, 'water_temperature': 28.047390794276254, 'ph_level': 8.29372535689809, 'turbidity': 6.41, 'dissolved_oxygen': 8.82}\n",
      "Sent: {'timestamp': 1741103581, 'water_temperature': 28.48776235151695, 'ph_level': 8.459991603163903, 'turbidity': 20.43, 'dissolved_oxygen': 9.57}\n",
      "Sent: {'timestamp': 1741103582, 'water_temperature': 27.59009353357699, 'ph_level': 8.203176475213269, 'turbidity': 37.88, 'dissolved_oxygen': 11.2}\n",
      "Sent: {'timestamp': 1741103583, 'water_temperature': 28.828179510458593, 'ph_level': 8.400072709924249, 'turbidity': 11.26, 'dissolved_oxygen': 5.2}\n",
      "Sent: {'timestamp': 1741103584, 'water_temperature': 29.1179029208982, 'ph_level': 7.977840234838882, 'turbidity': 13.79, 'dissolved_oxygen': 7.11}\n",
      "Sent: {'timestamp': 1741103585, 'water_temperature': 29.130819703923038, 'ph_level': 8.179747675018106, 'turbidity': 38.61, 'dissolved_oxygen': 8.09}\n",
      "Sent: {'timestamp': 1741103586, 'water_temperature': 28.55740624782302, 'ph_level': 8.167313954913537, 'turbidity': 42.23, 'dissolved_oxygen': 11.87}\n",
      "Sent: {'timestamp': 1741103587, 'water_temperature': 28.95386392243935, 'ph_level': 8.58460548014377, 'turbidity': 37.54, 'dissolved_oxygen': 11.68}\n",
      "Sent: {'timestamp': 1741103588, 'water_temperature': 27.918093428529527, 'ph_level': 8.138144120000607, 'turbidity': 33.01, 'dissolved_oxygen': 6.2}\n",
      "Sent: {'timestamp': 1741103589, 'water_temperature': 28.471637214462017, 'ph_level': 8.059804301363652, 'turbidity': 18.33, 'dissolved_oxygen': 7.99}\n",
      "Sent: {'timestamp': 1741103590, 'water_temperature': 28.55526180353163, 'ph_level': 8.378651947567516, 'turbidity': 38.42, 'dissolved_oxygen': 10.93}\n",
      "Sent: {'timestamp': 1741103591, 'water_temperature': 28.541501083699515, 'ph_level': 8.486968457378937, 'turbidity': 6.14, 'dissolved_oxygen': 10.54}\n",
      "Sent: {'timestamp': 1741103592, 'water_temperature': 28.880596385787445, 'ph_level': 8.293405466314354, 'turbidity': 28.86, 'dissolved_oxygen': 11.59}\n",
      "Sent: {'timestamp': 1741103593, 'water_temperature': 28.227847590849063, 'ph_level': 7.871233194681269, 'turbidity': 23.75, 'dissolved_oxygen': 7.41}\n",
      "Sent: {'timestamp': 1741103594, 'water_temperature': 27.4441988256317, 'ph_level': 8.185247549834736, 'turbidity': 47.05, 'dissolved_oxygen': 10.66}\n",
      "Sent: {'timestamp': 1741103595, 'water_temperature': 29.154740611786217, 'ph_level': 8.169664557055095, 'turbidity': 26.37, 'dissolved_oxygen': 9.27}\n",
      "Sent: {'timestamp': 1741103596, 'water_temperature': 28.891245363092413, 'ph_level': 8.409477620500565, 'turbidity': 47.44, 'dissolved_oxygen': 8.86}\n",
      "Sent: {'timestamp': 1741103597, 'water_temperature': 27.45407688463625, 'ph_level': 8.322782575864721, 'turbidity': 46.45, 'dissolved_oxygen': 5.45}\n",
      "Sent: {'timestamp': 1741103598, 'water_temperature': 28.358383416139098, 'ph_level': 7.996014307284558, 'turbidity': 12.91, 'dissolved_oxygen': 6.41}\n",
      "Sent: {'timestamp': 1741103599, 'water_temperature': 28.63981453772139, 'ph_level': 7.835130220312011, 'turbidity': 39.6, 'dissolved_oxygen': 9.82}\n",
      "Sent: {'timestamp': 1741103600, 'water_temperature': 27.735208314997507, 'ph_level': 7.8516727434418945, 'turbidity': 6.41, 'dissolved_oxygen': 7.12}\n",
      "Sent: {'timestamp': 1741103601, 'water_temperature': 27.641701048169402, 'ph_level': 8.009617780504525, 'turbidity': 36.07, 'dissolved_oxygen': 5.89}\n",
      "Sent: {'timestamp': 1741103602, 'water_temperature': 27.28750989812967, 'ph_level': 7.784640009674947, 'turbidity': 6.75, 'dissolved_oxygen': 5.72}\n",
      "Sent: {'timestamp': 1741103603, 'water_temperature': 28.914271018781626, 'ph_level': 7.81125195732745, 'turbidity': 47.39, 'dissolved_oxygen': 11.97}\n",
      "Sent: {'timestamp': 1741103604, 'water_temperature': 27.417933833804334, 'ph_level': 7.791071859017494, 'turbidity': 33.48, 'dissolved_oxygen': 11.74}\n",
      "Sent: {'timestamp': 1741103605, 'water_temperature': 27.7795966682653, 'ph_level': 7.779171291648847, 'turbidity': 22.26, 'dissolved_oxygen': 11.33}\n",
      "Sent: {'timestamp': 1741103606, 'water_temperature': 27.47496068346397, 'ph_level': 8.137357428989803, 'turbidity': 13.06, 'dissolved_oxygen': 10.52}\n",
      "Stopped producing messages.\n"
     ]
    }
   ],
   "source": [
    " # Kafka configuration\n",
    "kafka_topic = \"water_quality\"\n",
    "kafka_bootstrap_servers = [\"localhost:9092\"] \n",
    "\n",
    "# Create Kafka producer\n",
    "producer = KafkaProducer(\n",
    "    bootstrap_servers=kafka_bootstrap_servers,\n",
    "    value_serializer=lambda v: json.dumps(v).encode('utf-8')\n",
    ")\n",
    "\n",
    "print(f\"Producing messages to Kafka topic '{kafka_topic}'...\")\n",
    "\n",
    "try:\n",
    "    while True:\n",
    "        # Generate sensor data\n",
    "        sensor_data = generate_sensor_data()\n",
    "\n",
    "        # Publish sensor data to Kafka\n",
    "        producer.send(kafka_topic, sensor_data)\n",
    "\n",
    "        print(f\"Sent: {sensor_data}\")\n",
    "\n",
    "        # Wait for 1 second\n",
    "        time.sleep(1)\n",
    "except KeyboardInterrupt:\n",
    "    print(\"Stopped producing messages.\")\n",
    "finally:\n",
    "    producer.close()"
   ]
  },
  {
   "cell_type": "code",
   "execution_count": null,
   "id": "83c3049b-7dbc-477c-ae63-0a3436bc47e4",
   "metadata": {},
   "outputs": [],
   "source": []
  }
 ],
 "metadata": {
  "kernelspec": {
   "display_name": "Python 3 (ipykernel)",
   "language": "python",
   "name": "python3"
  },
  "language_info": {
   "codemirror_mode": {
    "name": "ipython",
    "version": 3
   },
   "file_extension": ".py",
   "mimetype": "text/x-python",
   "name": "python",
   "nbconvert_exporter": "python",
   "pygments_lexer": "ipython3",
   "version": "3.10.12"
  }
 },
 "nbformat": 4,
 "nbformat_minor": 5
}
