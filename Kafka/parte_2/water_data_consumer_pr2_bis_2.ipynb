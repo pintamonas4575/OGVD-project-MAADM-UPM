{
 "cells": [
  {
   "cell_type": "code",
   "execution_count": 1,
   "id": "a8d88bef-d52c-4823-9202-a21ba4416fd9",
   "metadata": {},
   "outputs": [],
   "source": [
    "from kafka import KafkaConsumer\n",
    "import json\n",
    "import matplotlib.pyplot as plt\n",
    "import time"
   ]
  },
  {
   "cell_type": "code",
   "execution_count": 2,
   "id": "3015cc15-d615-4c64-8a4f-81348cd520cb",
   "metadata": {},
   "outputs": [],
   "source": [
    "# Initialize data storage for plotting\n",
    "timestamps = []\n",
    "water_temperatures = []\n",
    "ph_levels = []\n",
    "turbidities = []\n",
    "dissolved_oxygen_levels = []"
   ]
  },
  {
   "cell_type": "code",
   "execution_count": 3,
   "id": "17e20978-2cfe-4d38-a8ce-fb1abf9c0262",
   "metadata": {},
   "outputs": [],
   "source": [
    "# Kafka configuration\n",
    "def initialize_consumer():\n",
    "    kafka_topic = \"water_quality\"\n",
    "    kafka_bootstrap_servers = [\"localhost:9092\"]\n",
    "\n",
    "    # Create Kafka consumer\n",
    "    consumer = KafkaConsumer(\n",
    "        kafka_topic,\n",
    "        bootstrap_servers=kafka_bootstrap_servers,\n",
    "        value_deserializer=lambda m: json.loads(m.decode('utf-8')),\n",
    "        auto_offset_reset='latest',\n",
    "        enable_auto_commit=True,\n",
    "        group_id = \"water_quality_consumers\"\n",
    "    )\n",
    "    return consumer"
   ]
  },
  {
   "cell_type": "code",
   "execution_count": 4,
   "id": "30698277-1770-4cb0-92a7-95ffbb33bf9b",
   "metadata": {},
   "outputs": [],
   "source": [
    "# Receive all published messages and update plot\n",
    "def update_plot(consumer):\n",
    "    try:\n",
    "        for message in consumer:\n",
    "            # Parse the message\n",
    "            sensor_data = message.value\n",
    "            sensor_key = message.key\n",
    "            print(f\"Received: {sensor_data} from sensor {sensor_key}\")\n",
    "\n",
    "            # Update data storage\n",
    "            timestamps.append(sensor_data['timestamp'])\n",
    "            water_temperatures.append(sensor_data['water_temperature'])\n",
    "            ph_levels.append(sensor_data['ph_level'])\n",
    "            turbidities.append(sensor_data['turbidity'])\n",
    "            dissolved_oxygen_levels.append(sensor_data['dissolved_oxygen'])\n",
    "\n",
    "            # Keep only the last 100 entries for plotting\n",
    "            if len(timestamps) > 100:\n",
    "                timestamps.pop(0)\n",
    "                water_temperatures.pop(0)\n",
    "                ph_levels.pop(0)\n",
    "                turbidities.pop(0)\n",
    "                dissolved_oxygen_levels.pop(0)\n",
    "\n",
    "            # Clear the current axes and redraw the plots\n",
    "            plt.figure(figsize=(10, 8))\n",
    "\n",
    "            plt.subplot(2, 2, 1)\n",
    "            plt.plot(timestamps, water_temperatures, label=\"Water Temperature\", color=\"blue\")\n",
    "            plt.title(\"Water Temperature\")\n",
    "            plt.ylabel(\"°C\")\n",
    "\n",
    "            plt.subplot(2, 2, 2)\n",
    "            plt.plot(timestamps, ph_levels, label=\"pH Level\", color=\"green\")\n",
    "            plt.title(\"pH Level\")\n",
    "            plt.ylabel(\"pH\")\n",
    "\n",
    "            plt.subplot(2, 2, 3)\n",
    "            plt.plot(timestamps, turbidities, label=\"Turbidity\", color=\"orange\")\n",
    "            plt.title(\"Turbidity\")\n",
    "            plt.ylabel(\"NTU\")\n",
    "\n",
    "            plt.subplot(2, 2, 4)\n",
    "            plt.plot(timestamps, dissolved_oxygen_levels, label=\"Dissolved Oxygen\", color=\"red\")\n",
    "            plt.title(\"Dissolved Oxygen\")\n",
    "            plt.ylabel(\"mg/L\")\n",
    "\n",
    "            plt.tight_layout()\n",
    "\n",
    "            # Save the plot as an image\n",
    "            plt.savefig(f\"water_quality_plot_{sensor_key}.png\")\n",
    "            plt.close()\n",
    "\n",
    "            break  # Process one message at a time\n",
    "    except KeyboardInterrupt:\n",
    "        print(\"Stopped consuming messages.\")\n",
    "        consumer.close()"
   ]
  },
  {
   "cell_type": "code",
   "execution_count": null,
   "id": "e7f2aeb6-f897-4a9f-a75f-a89b31bc0a58",
   "metadata": {},
   "outputs": [
    {
     "name": "stdout",
     "output_type": "stream",
     "text": [
      "Created consumer subscribed to Kafka topic 'water_quality'.\n"
     ]
    }
   ],
   "source": [
    "consumer = initialize_consumer()\n",
    "print(f\"Created consumer subscribed to Kafka topic 'water_quality'.\")\n",
    "\n",
    "try:\n",
    "    while True:\n",
    "        update_plot(consumer)\n",
    "except KeyboardInterrupt:\n",
    "    print(\"Stopped visualization.\")\n",
    "    consumer.close()"
   ]
  },
  {
   "cell_type": "code",
   "execution_count": null,
   "id": "daa17dd0-2203-4cd6-8938-0cf8c3c2532a",
   "metadata": {},
   "outputs": [],
   "source": []
  }
 ],
 "metadata": {
  "kernelspec": {
   "display_name": "Python 3 (ipykernel)",
   "language": "python",
   "name": "python3"
  },
  "language_info": {
   "codemirror_mode": {
    "name": "ipython",
    "version": 3
   },
   "file_extension": ".py",
   "mimetype": "text/x-python",
   "name": "python",
   "nbconvert_exporter": "python",
   "pygments_lexer": "ipython3",
   "version": "3.10.12"
  }
 },
 "nbformat": 4,
 "nbformat_minor": 5
}
